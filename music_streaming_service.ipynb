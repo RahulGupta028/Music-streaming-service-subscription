{
 "cells": [
  {
   "cell_type": "code",
   "execution_count": 7,
   "metadata": {},
   "outputs": [],
   "source": [
    "import numpy as np # linear algebra\n",
    "import pandas as pd # data processing, CSV file I/O (e.g. pd.read_csv)\n",
    "import seaborn as sns \n",
    "import matplotlib.pyplot as plt \n",
    "%matplotlib inline\n",
    "import warnings\n",
    "warnings.filterwarnings('ignore')"
   ]
  },
  {
   "cell_type": "code",
   "execution_count": 2,
   "metadata": {},
   "outputs": [],
   "source": [
    "df_train = pd.read_csv(\"train.csv\")\n",
    "df_songs = pd.read_csv(\"songs.csv\")\n",
    "df_songs_extra = pd.read_csv(\"song_extra_info.csv\")\n",
    "df_members = pd.read_csv(\"members.csv\",parse_dates=[\"registration_init_time\",\"expiration_date\"]) # here data and time will set\n",
    "df_test = pd.read_csv(\"test.csv\")"
   ]
  },
  {
   "cell_type": "code",
   "execution_count": 3,
   "metadata": {},
   "outputs": [
    {
     "data": {
      "text/html": [
       "<div>\n",
       "<style scoped>\n",
       "    .dataframe tbody tr th:only-of-type {\n",
       "        vertical-align: middle;\n",
       "    }\n",
       "\n",
       "    .dataframe tbody tr th {\n",
       "        vertical-align: top;\n",
       "    }\n",
       "\n",
       "    .dataframe thead th {\n",
       "        text-align: right;\n",
       "    }\n",
       "</style>\n",
       "<table border=\"1\" class=\"dataframe\">\n",
       "  <thead>\n",
       "    <tr style=\"text-align: right;\">\n",
       "      <th></th>\n",
       "      <th>msno</th>\n",
       "      <th>song_id</th>\n",
       "      <th>source_system_tab</th>\n",
       "      <th>source_screen_name</th>\n",
       "      <th>source_type</th>\n",
       "      <th>target</th>\n",
       "    </tr>\n",
       "  </thead>\n",
       "  <tbody>\n",
       "    <tr>\n",
       "      <th>0</th>\n",
       "      <td>FGtllVqz18RPiwJj/edr2gV78zirAiY/9SmYvia+kCg=</td>\n",
       "      <td>BBzumQNXUHKdEBOB7mAJuzok+IJA1c2Ryg/yzTF6tik=</td>\n",
       "      <td>explore</td>\n",
       "      <td>Explore</td>\n",
       "      <td>online-playlist</td>\n",
       "      <td>1</td>\n",
       "    </tr>\n",
       "    <tr>\n",
       "      <th>1</th>\n",
       "      <td>Xumu+NIjS6QYVxDS4/t3SawvJ7viT9hPKXmf0RtLNx8=</td>\n",
       "      <td>bhp/MpSNoqoxOIB+/l8WPqu6jldth4DIpCm3ayXnJqM=</td>\n",
       "      <td>my library</td>\n",
       "      <td>Local playlist more</td>\n",
       "      <td>local-playlist</td>\n",
       "      <td>1</td>\n",
       "    </tr>\n",
       "    <tr>\n",
       "      <th>2</th>\n",
       "      <td>Xumu+NIjS6QYVxDS4/t3SawvJ7viT9hPKXmf0RtLNx8=</td>\n",
       "      <td>JNWfrrC7zNN7BdMpsISKa4Mw+xVJYNnxXh3/Epw7QgY=</td>\n",
       "      <td>my library</td>\n",
       "      <td>Local playlist more</td>\n",
       "      <td>local-playlist</td>\n",
       "      <td>1</td>\n",
       "    </tr>\n",
       "    <tr>\n",
       "      <th>3</th>\n",
       "      <td>Xumu+NIjS6QYVxDS4/t3SawvJ7viT9hPKXmf0RtLNx8=</td>\n",
       "      <td>2A87tzfnJTSWqD7gIZHisolhe4DMdzkbd6LzO1KHjNs=</td>\n",
       "      <td>my library</td>\n",
       "      <td>Local playlist more</td>\n",
       "      <td>local-playlist</td>\n",
       "      <td>1</td>\n",
       "    </tr>\n",
       "    <tr>\n",
       "      <th>4</th>\n",
       "      <td>FGtllVqz18RPiwJj/edr2gV78zirAiY/9SmYvia+kCg=</td>\n",
       "      <td>3qm6XTZ6MOCU11x8FIVbAGH5l5uMkT3/ZalWG1oo2Gc=</td>\n",
       "      <td>explore</td>\n",
       "      <td>Explore</td>\n",
       "      <td>online-playlist</td>\n",
       "      <td>1</td>\n",
       "    </tr>\n",
       "  </tbody>\n",
       "</table>\n",
       "</div>"
      ],
      "text/plain": [
       "                                           msno  \\\n",
       "0  FGtllVqz18RPiwJj/edr2gV78zirAiY/9SmYvia+kCg=   \n",
       "1  Xumu+NIjS6QYVxDS4/t3SawvJ7viT9hPKXmf0RtLNx8=   \n",
       "2  Xumu+NIjS6QYVxDS4/t3SawvJ7viT9hPKXmf0RtLNx8=   \n",
       "3  Xumu+NIjS6QYVxDS4/t3SawvJ7viT9hPKXmf0RtLNx8=   \n",
       "4  FGtllVqz18RPiwJj/edr2gV78zirAiY/9SmYvia+kCg=   \n",
       "\n",
       "                                        song_id source_system_tab  \\\n",
       "0  BBzumQNXUHKdEBOB7mAJuzok+IJA1c2Ryg/yzTF6tik=           explore   \n",
       "1  bhp/MpSNoqoxOIB+/l8WPqu6jldth4DIpCm3ayXnJqM=        my library   \n",
       "2  JNWfrrC7zNN7BdMpsISKa4Mw+xVJYNnxXh3/Epw7QgY=        my library   \n",
       "3  2A87tzfnJTSWqD7gIZHisolhe4DMdzkbd6LzO1KHjNs=        my library   \n",
       "4  3qm6XTZ6MOCU11x8FIVbAGH5l5uMkT3/ZalWG1oo2Gc=           explore   \n",
       "\n",
       "    source_screen_name      source_type  target  \n",
       "0              Explore  online-playlist       1  \n",
       "1  Local playlist more   local-playlist       1  \n",
       "2  Local playlist more   local-playlist       1  \n",
       "3  Local playlist more   local-playlist       1  \n",
       "4              Explore  online-playlist       1  "
      ]
     },
     "execution_count": 3,
     "metadata": {},
     "output_type": "execute_result"
    }
   ],
   "source": [
    "df_train.head()"
   ]
  },
  {
   "cell_type": "code",
   "execution_count": 4,
   "metadata": {},
   "outputs": [
    {
     "data": {
      "text/html": [
       "<div>\n",
       "<style scoped>\n",
       "    .dataframe tbody tr th:only-of-type {\n",
       "        vertical-align: middle;\n",
       "    }\n",
       "\n",
       "    .dataframe tbody tr th {\n",
       "        vertical-align: top;\n",
       "    }\n",
       "\n",
       "    .dataframe thead th {\n",
       "        text-align: right;\n",
       "    }\n",
       "</style>\n",
       "<table border=\"1\" class=\"dataframe\">\n",
       "  <thead>\n",
       "    <tr style=\"text-align: right;\">\n",
       "      <th></th>\n",
       "      <th>song_id</th>\n",
       "      <th>song_length</th>\n",
       "      <th>genre_ids</th>\n",
       "      <th>artist_name</th>\n",
       "      <th>composer</th>\n",
       "      <th>lyricist</th>\n",
       "      <th>language</th>\n",
       "    </tr>\n",
       "  </thead>\n",
       "  <tbody>\n",
       "    <tr>\n",
       "      <th>0</th>\n",
       "      <td>CXoTN1eb7AI+DntdU1vbcwGRV4SCIDxZu+YD8JP8r4E=</td>\n",
       "      <td>247640</td>\n",
       "      <td>465</td>\n",
       "      <td>張信哲 (Jeff Chang)</td>\n",
       "      <td>董貞</td>\n",
       "      <td>何啟弘</td>\n",
       "      <td>3.0</td>\n",
       "    </tr>\n",
       "    <tr>\n",
       "      <th>1</th>\n",
       "      <td>o0kFgae9QtnYgRkVPqLJwa05zIhRlUjfF7O1tDw0ZDU=</td>\n",
       "      <td>197328</td>\n",
       "      <td>444</td>\n",
       "      <td>BLACKPINK</td>\n",
       "      <td>TEDDY|  FUTURE BOUNCE|  Bekuh BOOM</td>\n",
       "      <td>TEDDY</td>\n",
       "      <td>31.0</td>\n",
       "    </tr>\n",
       "    <tr>\n",
       "      <th>2</th>\n",
       "      <td>DwVvVurfpuz+XPuFvucclVQEyPqcpUkHR0ne1RQzPs0=</td>\n",
       "      <td>231781</td>\n",
       "      <td>465</td>\n",
       "      <td>SUPER JUNIOR</td>\n",
       "      <td>NaN</td>\n",
       "      <td>NaN</td>\n",
       "      <td>31.0</td>\n",
       "    </tr>\n",
       "    <tr>\n",
       "      <th>3</th>\n",
       "      <td>dKMBWoZyScdxSkihKG+Vf47nc18N9q4m58+b4e7dSSE=</td>\n",
       "      <td>273554</td>\n",
       "      <td>465</td>\n",
       "      <td>S.H.E</td>\n",
       "      <td>湯小康</td>\n",
       "      <td>徐世珍</td>\n",
       "      <td>3.0</td>\n",
       "    </tr>\n",
       "    <tr>\n",
       "      <th>4</th>\n",
       "      <td>W3bqWd3T+VeHFzHAUfARgW9AvVRaF4N5Yzm4Mr6Eo/o=</td>\n",
       "      <td>140329</td>\n",
       "      <td>726</td>\n",
       "      <td>貴族精選</td>\n",
       "      <td>Traditional</td>\n",
       "      <td>Traditional</td>\n",
       "      <td>52.0</td>\n",
       "    </tr>\n",
       "  </tbody>\n",
       "</table>\n",
       "</div>"
      ],
      "text/plain": [
       "                                        song_id  song_length genre_ids  \\\n",
       "0  CXoTN1eb7AI+DntdU1vbcwGRV4SCIDxZu+YD8JP8r4E=       247640       465   \n",
       "1  o0kFgae9QtnYgRkVPqLJwa05zIhRlUjfF7O1tDw0ZDU=       197328       444   \n",
       "2  DwVvVurfpuz+XPuFvucclVQEyPqcpUkHR0ne1RQzPs0=       231781       465   \n",
       "3  dKMBWoZyScdxSkihKG+Vf47nc18N9q4m58+b4e7dSSE=       273554       465   \n",
       "4  W3bqWd3T+VeHFzHAUfARgW9AvVRaF4N5Yzm4Mr6Eo/o=       140329       726   \n",
       "\n",
       "        artist_name                            composer     lyricist  language  \n",
       "0  張信哲 (Jeff Chang)                                  董貞          何啟弘       3.0  \n",
       "1         BLACKPINK  TEDDY|  FUTURE BOUNCE|  Bekuh BOOM        TEDDY      31.0  \n",
       "2      SUPER JUNIOR                                 NaN          NaN      31.0  \n",
       "3             S.H.E                                 湯小康          徐世珍       3.0  \n",
       "4              貴族精選                         Traditional  Traditional      52.0  "
      ]
     },
     "execution_count": 4,
     "metadata": {},
     "output_type": "execute_result"
    }
   ],
   "source": [
    "df_songs.head()"
   ]
  },
  {
   "cell_type": "code",
   "execution_count": 5,
   "metadata": {},
   "outputs": [
    {
     "data": {
      "text/html": [
       "<div>\n",
       "<style scoped>\n",
       "    .dataframe tbody tr th:only-of-type {\n",
       "        vertical-align: middle;\n",
       "    }\n",
       "\n",
       "    .dataframe tbody tr th {\n",
       "        vertical-align: top;\n",
       "    }\n",
       "\n",
       "    .dataframe thead th {\n",
       "        text-align: right;\n",
       "    }\n",
       "</style>\n",
       "<table border=\"1\" class=\"dataframe\">\n",
       "  <thead>\n",
       "    <tr style=\"text-align: right;\">\n",
       "      <th></th>\n",
       "      <th>song_id</th>\n",
       "      <th>name</th>\n",
       "      <th>isrc</th>\n",
       "    </tr>\n",
       "  </thead>\n",
       "  <tbody>\n",
       "    <tr>\n",
       "      <th>0</th>\n",
       "      <td>LP7pLJoJFBvyuUwvu+oLzjT+bI+UeBPURCecJsX1jjs=</td>\n",
       "      <td>我們</td>\n",
       "      <td>TWUM71200043</td>\n",
       "    </tr>\n",
       "    <tr>\n",
       "      <th>1</th>\n",
       "      <td>ClazTFnk6r0Bnuie44bocdNMM3rdlrq0bCGAsGUWcHE=</td>\n",
       "      <td>Let Me Love You</td>\n",
       "      <td>QMZSY1600015</td>\n",
       "    </tr>\n",
       "    <tr>\n",
       "      <th>2</th>\n",
       "      <td>u2ja/bZE3zhCGxvbbOB3zOoUjx27u40cf5g09UXMoKQ=</td>\n",
       "      <td>原諒我</td>\n",
       "      <td>TWA530887303</td>\n",
       "    </tr>\n",
       "    <tr>\n",
       "      <th>3</th>\n",
       "      <td>92Fqsy0+p6+RHe2EoLKjHahORHR1Kq1TBJoClW9v+Ts=</td>\n",
       "      <td>Classic</td>\n",
       "      <td>USSM11301446</td>\n",
       "    </tr>\n",
       "    <tr>\n",
       "      <th>4</th>\n",
       "      <td>0QFmz/+rJy1Q56C1DuYqT9hKKqi5TUqx0sN0IwvoHrw=</td>\n",
       "      <td>愛投羅網</td>\n",
       "      <td>TWA471306001</td>\n",
       "    </tr>\n",
       "  </tbody>\n",
       "</table>\n",
       "</div>"
      ],
      "text/plain": [
       "                                        song_id             name          isrc\n",
       "0  LP7pLJoJFBvyuUwvu+oLzjT+bI+UeBPURCecJsX1jjs=               我們  TWUM71200043\n",
       "1  ClazTFnk6r0Bnuie44bocdNMM3rdlrq0bCGAsGUWcHE=  Let Me Love You  QMZSY1600015\n",
       "2  u2ja/bZE3zhCGxvbbOB3zOoUjx27u40cf5g09UXMoKQ=              原諒我  TWA530887303\n",
       "3  92Fqsy0+p6+RHe2EoLKjHahORHR1Kq1TBJoClW9v+Ts=          Classic  USSM11301446\n",
       "4  0QFmz/+rJy1Q56C1DuYqT9hKKqi5TUqx0sN0IwvoHrw=             愛投羅網  TWA471306001"
      ]
     },
     "execution_count": 5,
     "metadata": {},
     "output_type": "execute_result"
    }
   ],
   "source": [
    "df_songs_extra.head()"
   ]
  },
  {
   "cell_type": "code",
   "execution_count": 6,
   "metadata": {},
   "outputs": [
    {
     "data": {
      "text/html": [
       "<div>\n",
       "<style scoped>\n",
       "    .dataframe tbody tr th:only-of-type {\n",
       "        vertical-align: middle;\n",
       "    }\n",
       "\n",
       "    .dataframe tbody tr th {\n",
       "        vertical-align: top;\n",
       "    }\n",
       "\n",
       "    .dataframe thead th {\n",
       "        text-align: right;\n",
       "    }\n",
       "</style>\n",
       "<table border=\"1\" class=\"dataframe\">\n",
       "  <thead>\n",
       "    <tr style=\"text-align: right;\">\n",
       "      <th></th>\n",
       "      <th>msno</th>\n",
       "      <th>city</th>\n",
       "      <th>bd</th>\n",
       "      <th>gender</th>\n",
       "      <th>registered_via</th>\n",
       "      <th>registration_init_time</th>\n",
       "      <th>expiration_date</th>\n",
       "    </tr>\n",
       "  </thead>\n",
       "  <tbody>\n",
       "    <tr>\n",
       "      <th>0</th>\n",
       "      <td>XQxgAYj3klVKjR3oxPPXYYFp4soD4TuBghkhMTD4oTw=</td>\n",
       "      <td>1</td>\n",
       "      <td>0</td>\n",
       "      <td>NaN</td>\n",
       "      <td>7</td>\n",
       "      <td>2011-08-20</td>\n",
       "      <td>2017-09-20</td>\n",
       "    </tr>\n",
       "    <tr>\n",
       "      <th>1</th>\n",
       "      <td>UizsfmJb9mV54qE9hCYyU07Va97c0lCRLEQX3ae+ztM=</td>\n",
       "      <td>1</td>\n",
       "      <td>0</td>\n",
       "      <td>NaN</td>\n",
       "      <td>7</td>\n",
       "      <td>2015-06-28</td>\n",
       "      <td>2017-06-22</td>\n",
       "    </tr>\n",
       "    <tr>\n",
       "      <th>2</th>\n",
       "      <td>D8nEhsIOBSoE6VthTaqDX8U6lqjJ7dLdr72mOyLya2A=</td>\n",
       "      <td>1</td>\n",
       "      <td>0</td>\n",
       "      <td>NaN</td>\n",
       "      <td>4</td>\n",
       "      <td>2016-04-11</td>\n",
       "      <td>2017-07-12</td>\n",
       "    </tr>\n",
       "    <tr>\n",
       "      <th>3</th>\n",
       "      <td>mCuD+tZ1hERA/o5GPqk38e041J8ZsBaLcu7nGoIIvhI=</td>\n",
       "      <td>1</td>\n",
       "      <td>0</td>\n",
       "      <td>NaN</td>\n",
       "      <td>9</td>\n",
       "      <td>2015-09-06</td>\n",
       "      <td>2015-09-07</td>\n",
       "    </tr>\n",
       "    <tr>\n",
       "      <th>4</th>\n",
       "      <td>q4HRBfVSssAFS9iRfxWrohxuk9kCYMKjHOEagUMV6rQ=</td>\n",
       "      <td>1</td>\n",
       "      <td>0</td>\n",
       "      <td>NaN</td>\n",
       "      <td>4</td>\n",
       "      <td>2017-01-26</td>\n",
       "      <td>2017-06-13</td>\n",
       "    </tr>\n",
       "  </tbody>\n",
       "</table>\n",
       "</div>"
      ],
      "text/plain": [
       "                                           msno  city  bd gender  \\\n",
       "0  XQxgAYj3klVKjR3oxPPXYYFp4soD4TuBghkhMTD4oTw=     1   0    NaN   \n",
       "1  UizsfmJb9mV54qE9hCYyU07Va97c0lCRLEQX3ae+ztM=     1   0    NaN   \n",
       "2  D8nEhsIOBSoE6VthTaqDX8U6lqjJ7dLdr72mOyLya2A=     1   0    NaN   \n",
       "3  mCuD+tZ1hERA/o5GPqk38e041J8ZsBaLcu7nGoIIvhI=     1   0    NaN   \n",
       "4  q4HRBfVSssAFS9iRfxWrohxuk9kCYMKjHOEagUMV6rQ=     1   0    NaN   \n",
       "\n",
       "   registered_via registration_init_time expiration_date  \n",
       "0               7             2011-08-20      2017-09-20  \n",
       "1               7             2015-06-28      2017-06-22  \n",
       "2               4             2016-04-11      2017-07-12  \n",
       "3               9             2015-09-06      2015-09-07  \n",
       "4               4             2017-01-26      2017-06-13  "
      ]
     },
     "execution_count": 6,
     "metadata": {},
     "output_type": "execute_result"
    }
   ],
   "source": [
    "df_members.head()"
   ]
  },
  {
   "cell_type": "markdown",
   "metadata": {},
   "source": [
    "## Compare the Common , Symmetric difference and Unique MSNO Id  in Train and  Members data set"
   ]
  },
  {
   "cell_type": "code",
   "execution_count": 7,
   "metadata": {},
   "outputs": [
    {
     "name": "stdout",
     "output_type": "stream",
     "text": [
      "Number of common MSNO id in both the datasets  - Train and Members :  30755\n",
      "Number of symmetric differene MSNO id in betwween the datasets  - Train and Members:  3648\n",
      "No of Unique MSNO id  in Training set : 30755\n",
      "No of Unique MSNO id  in Members set : 34403\n",
      "Shape of Training set: (7377418, 6)\n",
      "Shape of Members set: (34403, 7)\n"
     ]
    }
   ],
   "source": [
    "print(\"Number of common MSNO id in both the datasets  - Train and Members : \" ,len(set.intersection(set(df_train['msno']), set(df_members['msno']))))\n",
    "print(\"Number of symmetric differene MSNO id in betwween the datasets  - Train and Members: \",len(set.symmetric_difference(set(df_train['msno']), set(df_members['msno']))))\n",
    "print(\"No of Unique MSNO id  in Training set :\", df_train['msno'].nunique())\n",
    "print(\"No of Unique MSNO id  in Members set :\", df_members['msno'].nunique())\n",
    "print(\"Shape of Training set:\", df_train.shape)\n",
    "print(\"Shape of Members set:\", df_members.shape)"
   ]
  },
  {
   "cell_type": "markdown",
   "metadata": {},
   "source": [
    "## Compare the Common,Symmetric difference and Unique Songs Id in Train and Songs data set"
   ]
  },
  {
   "cell_type": "code",
   "execution_count": 8,
   "metadata": {},
   "outputs": [
    {
     "name": "stdout",
     "output_type": "stream",
     "text": [
      "Number of Common Songs id in both the datasets - Train and Songs :  359914\n",
      "Number of symmetric differene Songs id in between the datasets  - Train and Songs:  1936458\n",
      "No of Unique songs id in Training set : 359966\n",
      "No of Unique songs id  in Songs set : 2296320\n",
      "Shape of Training set: (7377418, 6)\n",
      "Shape of Songs set: (2296320, 7)\n"
     ]
    }
   ],
   "source": [
    "print(\"Number of Common Songs id in both the datasets - Train and Songs : \", len(set.intersection(set(df_train['song_id']), set(df_songs['song_id']))))\n",
    "print(\"Number of symmetric differene Songs id in between the datasets  - Train and Songs: \",len(set.symmetric_difference(set(df_train['song_id']), set(df_songs['song_id']))))\n",
    "print(\"No of Unique songs id in Training set :\", df_train['song_id'].nunique())\n",
    "print(\"No of Unique songs id  in Songs set :\" ,df_songs['song_id'].nunique())\n",
    "print(\"Shape of Training set:\", df_train.shape)\n",
    "print(\"Shape of Songs set:\", df_songs.shape)"
   ]
  },
  {
   "cell_type": "markdown",
   "metadata": {},
   "source": [
    "## Compare the Common , Symmetric difference and Unique MSNO Id  in Test and Members  data set"
   ]
  },
  {
   "cell_type": "code",
   "execution_count": 9,
   "metadata": {},
   "outputs": [
    {
     "name": "stdout",
     "output_type": "stream",
     "text": [
      "Number of common MSNO id in both the datasets - Test and Members :  25131\n",
      "Number of symmetric differene Songs id in between the datasets  - Train and Members:  9272\n",
      "No of Unique MSNO id  in Training set : 25131\n",
      "No of Unique MSNO id  in Members set : 34403\n",
      "Shape of Training set: (7377418, 6)\n",
      "Shape of Members set: (34403, 7)\n"
     ]
    }
   ],
   "source": [
    "print(\"Number of common MSNO id in both the datasets - Test and Members : \" ,len(set.intersection(set(df_test['msno']), set(df_members['msno']))))\n",
    "print(\"Number of symmetric differene Songs id in between the datasets  - Train and Members: \",len(set.symmetric_difference(set(df_test['msno']), set(df_members['msno']))))\n",
    "print(\"No of Unique MSNO id  in Training set :\", df_test['msno'].nunique())\n",
    "print(\"No of Unique MSNO id  in Members set :\", df_members['msno'].nunique())\n",
    "print(\"Shape of Training set:\", df_train.shape)\n",
    "print(\"Shape of Members set:\", df_members.shape)"
   ]
  },
  {
   "cell_type": "markdown",
   "metadata": {},
   "source": [
    "## Compare the Common, Symmetric difference and Unique Song Id in Test and Songs data set"
   ]
  },
  {
   "cell_type": "code",
   "execution_count": 10,
   "metadata": {},
   "outputs": [
    {
     "name": "stdout",
     "output_type": "stream",
     "text": [
      "Number of Common Songs id  in both the datasets - Test and Songs :  224739\n",
      "Number of symmetric differene Songs id in between the datasets  - Test and Songs:  2071595\n",
      "No of Unique songs id  in Test set : 224753\n",
      "No of Unique songs id in Songs set : 2296320\n",
      "Shape of Test set: (7377418, 6)\n",
      "Shape of Songs set: (2296320, 7)\n"
     ]
    }
   ],
   "source": [
    "print(\"Number of Common Songs id  in both the datasets - Test and Songs : \", len(set.intersection(set(df_test['song_id']), set(df_songs['song_id']))))\n",
    "print(\"Number of symmetric differene Songs id in between the datasets  - Test and Songs: \",len(set.symmetric_difference(set(df_test['song_id']), set(df_songs['song_id']))))\n",
    "print(\"No of Unique songs id  in Test set :\", df_test['song_id'].nunique())\n",
    "print(\"No of Unique songs id in Songs set :\" ,df_songs['song_id'].nunique())\n",
    "print(\"Shape of Test set:\", df_train.shape)\n",
    "print(\"Shape of Songs set:\", df_songs.shape)"
   ]
  },
  {
   "cell_type": "markdown",
   "metadata": {},
   "source": [
    "## Compare the Common and Unique Song Id in Songs and song_extra_info data set"
   ]
  },
  {
   "cell_type": "code",
   "execution_count": 11,
   "metadata": {},
   "outputs": [
    {
     "name": "stdout",
     "output_type": "stream",
     "text": [
      "Number of Common Songs id  in both the datasets - Songs and song_extra_info :  2295422\n",
      "Number of symmetric differene Songs id in between the datasets  - Songs and song_extra_info:  1447\n",
      "No of Unique songs id  in Songs set : 2296320\n",
      "No of Unique songs id in Song_extra set : 2295971\n",
      "Shape of Songs set: (2296320, 7)\n",
      "Shape of Songs_extra set: (2295971, 3)\n"
     ]
    }
   ],
   "source": [
    "print(\"Number of Common Songs id  in both the datasets - Songs and song_extra_info : \", len(set.intersection(set(df_songs['song_id']), set(df_songs_extra['song_id']))))\n",
    "print(\"Number of symmetric differene Songs id in between the datasets  - Songs and song_extra_info: \",len(set.symmetric_difference(set(df_songs['song_id']), set(df_songs_extra['song_id']))))\n",
    "print(\"No of Unique songs id  in Songs set :\", df_songs['song_id'].nunique())\n",
    "print(\"No of Unique songs id in Song_extra set :\" ,df_songs_extra['song_id'].nunique())\n",
    "print(\"Shape of Songs set:\", df_songs.shape)\n",
    "print(\"Shape of Songs_extra set:\", df_songs_extra.shape)"
   ]
  },
  {
   "cell_type": "markdown",
   "metadata": {},
   "source": [
    "### Merge the Songs data set with Song_extra_info data sets"
   ]
  },
  {
   "cell_type": "code",
   "execution_count": 12,
   "metadata": {},
   "outputs": [],
   "source": [
    "df_songs =df_songs.merge(df_songs_extra,how=\"left\",on=\"song_id\")"
   ]
  },
  {
   "cell_type": "code",
   "execution_count": 13,
   "metadata": {},
   "outputs": [
    {
     "data": {
      "text/html": [
       "<div>\n",
       "<style scoped>\n",
       "    .dataframe tbody tr th:only-of-type {\n",
       "        vertical-align: middle;\n",
       "    }\n",
       "\n",
       "    .dataframe tbody tr th {\n",
       "        vertical-align: top;\n",
       "    }\n",
       "\n",
       "    .dataframe thead th {\n",
       "        text-align: right;\n",
       "    }\n",
       "</style>\n",
       "<table border=\"1\" class=\"dataframe\">\n",
       "  <thead>\n",
       "    <tr style=\"text-align: right;\">\n",
       "      <th></th>\n",
       "      <th>song_id</th>\n",
       "      <th>song_length</th>\n",
       "      <th>genre_ids</th>\n",
       "      <th>artist_name</th>\n",
       "      <th>composer</th>\n",
       "      <th>lyricist</th>\n",
       "      <th>language</th>\n",
       "      <th>name</th>\n",
       "      <th>isrc</th>\n",
       "    </tr>\n",
       "  </thead>\n",
       "  <tbody>\n",
       "    <tr>\n",
       "      <th>0</th>\n",
       "      <td>CXoTN1eb7AI+DntdU1vbcwGRV4SCIDxZu+YD8JP8r4E=</td>\n",
       "      <td>247640</td>\n",
       "      <td>465</td>\n",
       "      <td>張信哲 (Jeff Chang)</td>\n",
       "      <td>董貞</td>\n",
       "      <td>何啟弘</td>\n",
       "      <td>3.0</td>\n",
       "      <td>焚情</td>\n",
       "      <td>TWB531410010</td>\n",
       "    </tr>\n",
       "    <tr>\n",
       "      <th>1</th>\n",
       "      <td>o0kFgae9QtnYgRkVPqLJwa05zIhRlUjfF7O1tDw0ZDU=</td>\n",
       "      <td>197328</td>\n",
       "      <td>444</td>\n",
       "      <td>BLACKPINK</td>\n",
       "      <td>TEDDY|  FUTURE BOUNCE|  Bekuh BOOM</td>\n",
       "      <td>TEDDY</td>\n",
       "      <td>31.0</td>\n",
       "      <td>PLAYING WITH FIRE</td>\n",
       "      <td>NaN</td>\n",
       "    </tr>\n",
       "  </tbody>\n",
       "</table>\n",
       "</div>"
      ],
      "text/plain": [
       "                                        song_id  song_length genre_ids  \\\n",
       "0  CXoTN1eb7AI+DntdU1vbcwGRV4SCIDxZu+YD8JP8r4E=       247640       465   \n",
       "1  o0kFgae9QtnYgRkVPqLJwa05zIhRlUjfF7O1tDw0ZDU=       197328       444   \n",
       "\n",
       "        artist_name                            composer lyricist  language  \\\n",
       "0  張信哲 (Jeff Chang)                                  董貞      何啟弘       3.0   \n",
       "1         BLACKPINK  TEDDY|  FUTURE BOUNCE|  Bekuh BOOM    TEDDY      31.0   \n",
       "\n",
       "                name          isrc  \n",
       "0                 焚情  TWB531410010  \n",
       "1  PLAYING WITH FIRE           NaN  "
      ]
     },
     "execution_count": 13,
     "metadata": {},
     "output_type": "execute_result"
    }
   ],
   "source": [
    "df_songs.head(2)"
   ]
  },
  {
   "cell_type": "markdown",
   "metadata": {},
   "source": [
    "### Merge the Train data set with Members data set and Songs data sets"
   ]
  },
  {
   "cell_type": "code",
   "execution_count": 14,
   "metadata": {},
   "outputs": [],
   "source": [
    "df_trainMerge=df_train.merge(df_songs,how=\"left\",on=\"song_id\")\n",
    "df_trainMerge=df_trainMerge.merge(df_members,how=\"left\",on=\"msno\")"
   ]
  },
  {
   "cell_type": "code",
   "execution_count": 15,
   "metadata": {},
   "outputs": [
    {
     "data": {
      "text/html": [
       "<div>\n",
       "<style scoped>\n",
       "    .dataframe tbody tr th:only-of-type {\n",
       "        vertical-align: middle;\n",
       "    }\n",
       "\n",
       "    .dataframe tbody tr th {\n",
       "        vertical-align: top;\n",
       "    }\n",
       "\n",
       "    .dataframe thead th {\n",
       "        text-align: right;\n",
       "    }\n",
       "</style>\n",
       "<table border=\"1\" class=\"dataframe\">\n",
       "  <thead>\n",
       "    <tr style=\"text-align: right;\">\n",
       "      <th></th>\n",
       "      <th>msno</th>\n",
       "      <th>song_id</th>\n",
       "      <th>source_system_tab</th>\n",
       "      <th>source_screen_name</th>\n",
       "      <th>source_type</th>\n",
       "      <th>target</th>\n",
       "      <th>song_length</th>\n",
       "      <th>genre_ids</th>\n",
       "      <th>artist_name</th>\n",
       "      <th>composer</th>\n",
       "      <th>lyricist</th>\n",
       "      <th>language</th>\n",
       "      <th>name</th>\n",
       "      <th>isrc</th>\n",
       "      <th>city</th>\n",
       "      <th>bd</th>\n",
       "      <th>gender</th>\n",
       "      <th>registered_via</th>\n",
       "      <th>registration_init_time</th>\n",
       "      <th>expiration_date</th>\n",
       "    </tr>\n",
       "  </thead>\n",
       "  <tbody>\n",
       "    <tr>\n",
       "      <th>0</th>\n",
       "      <td>FGtllVqz18RPiwJj/edr2gV78zirAiY/9SmYvia+kCg=</td>\n",
       "      <td>BBzumQNXUHKdEBOB7mAJuzok+IJA1c2Ryg/yzTF6tik=</td>\n",
       "      <td>explore</td>\n",
       "      <td>Explore</td>\n",
       "      <td>online-playlist</td>\n",
       "      <td>1</td>\n",
       "      <td>206471.0</td>\n",
       "      <td>359</td>\n",
       "      <td>Bastille</td>\n",
       "      <td>Dan Smith| Mark Crew</td>\n",
       "      <td>NaN</td>\n",
       "      <td>52.0</td>\n",
       "      <td>Good Grief</td>\n",
       "      <td>GBUM71602854</td>\n",
       "      <td>1</td>\n",
       "      <td>0</td>\n",
       "      <td>NaN</td>\n",
       "      <td>7</td>\n",
       "      <td>2012-01-02</td>\n",
       "      <td>2017-10-05</td>\n",
       "    </tr>\n",
       "    <tr>\n",
       "      <th>1</th>\n",
       "      <td>Xumu+NIjS6QYVxDS4/t3SawvJ7viT9hPKXmf0RtLNx8=</td>\n",
       "      <td>bhp/MpSNoqoxOIB+/l8WPqu6jldth4DIpCm3ayXnJqM=</td>\n",
       "      <td>my library</td>\n",
       "      <td>Local playlist more</td>\n",
       "      <td>local-playlist</td>\n",
       "      <td>1</td>\n",
       "      <td>284584.0</td>\n",
       "      <td>1259</td>\n",
       "      <td>Various Artists</td>\n",
       "      <td>NaN</td>\n",
       "      <td>NaN</td>\n",
       "      <td>52.0</td>\n",
       "      <td>Lords of Cardboard</td>\n",
       "      <td>US3C69910183</td>\n",
       "      <td>13</td>\n",
       "      <td>24</td>\n",
       "      <td>female</td>\n",
       "      <td>9</td>\n",
       "      <td>2011-05-25</td>\n",
       "      <td>2017-09-11</td>\n",
       "    </tr>\n",
       "    <tr>\n",
       "      <th>2</th>\n",
       "      <td>Xumu+NIjS6QYVxDS4/t3SawvJ7viT9hPKXmf0RtLNx8=</td>\n",
       "      <td>JNWfrrC7zNN7BdMpsISKa4Mw+xVJYNnxXh3/Epw7QgY=</td>\n",
       "      <td>my library</td>\n",
       "      <td>Local playlist more</td>\n",
       "      <td>local-playlist</td>\n",
       "      <td>1</td>\n",
       "      <td>225396.0</td>\n",
       "      <td>1259</td>\n",
       "      <td>Nas</td>\n",
       "      <td>N. Jones、W. Adams、J. Lordan、D. Ingle</td>\n",
       "      <td>NaN</td>\n",
       "      <td>52.0</td>\n",
       "      <td>Hip Hop Is Dead(Album Version (Edited))</td>\n",
       "      <td>USUM70618761</td>\n",
       "      <td>13</td>\n",
       "      <td>24</td>\n",
       "      <td>female</td>\n",
       "      <td>9</td>\n",
       "      <td>2011-05-25</td>\n",
       "      <td>2017-09-11</td>\n",
       "    </tr>\n",
       "    <tr>\n",
       "      <th>3</th>\n",
       "      <td>Xumu+NIjS6QYVxDS4/t3SawvJ7viT9hPKXmf0RtLNx8=</td>\n",
       "      <td>2A87tzfnJTSWqD7gIZHisolhe4DMdzkbd6LzO1KHjNs=</td>\n",
       "      <td>my library</td>\n",
       "      <td>Local playlist more</td>\n",
       "      <td>local-playlist</td>\n",
       "      <td>1</td>\n",
       "      <td>255512.0</td>\n",
       "      <td>1019</td>\n",
       "      <td>Soundway</td>\n",
       "      <td>Kwadwo Donkoh</td>\n",
       "      <td>NaN</td>\n",
       "      <td>-1.0</td>\n",
       "      <td>Disco Africa</td>\n",
       "      <td>GBUQH1000063</td>\n",
       "      <td>13</td>\n",
       "      <td>24</td>\n",
       "      <td>female</td>\n",
       "      <td>9</td>\n",
       "      <td>2011-05-25</td>\n",
       "      <td>2017-09-11</td>\n",
       "    </tr>\n",
       "    <tr>\n",
       "      <th>4</th>\n",
       "      <td>FGtllVqz18RPiwJj/edr2gV78zirAiY/9SmYvia+kCg=</td>\n",
       "      <td>3qm6XTZ6MOCU11x8FIVbAGH5l5uMkT3/ZalWG1oo2Gc=</td>\n",
       "      <td>explore</td>\n",
       "      <td>Explore</td>\n",
       "      <td>online-playlist</td>\n",
       "      <td>1</td>\n",
       "      <td>187802.0</td>\n",
       "      <td>1011</td>\n",
       "      <td>Brett Young</td>\n",
       "      <td>Brett Young| Kelly Archer| Justin Ebach</td>\n",
       "      <td>NaN</td>\n",
       "      <td>52.0</td>\n",
       "      <td>Sleep Without You</td>\n",
       "      <td>QM3E21606003</td>\n",
       "      <td>1</td>\n",
       "      <td>0</td>\n",
       "      <td>NaN</td>\n",
       "      <td>7</td>\n",
       "      <td>2012-01-02</td>\n",
       "      <td>2017-10-05</td>\n",
       "    </tr>\n",
       "  </tbody>\n",
       "</table>\n",
       "</div>"
      ],
      "text/plain": [
       "                                           msno  \\\n",
       "0  FGtllVqz18RPiwJj/edr2gV78zirAiY/9SmYvia+kCg=   \n",
       "1  Xumu+NIjS6QYVxDS4/t3SawvJ7viT9hPKXmf0RtLNx8=   \n",
       "2  Xumu+NIjS6QYVxDS4/t3SawvJ7viT9hPKXmf0RtLNx8=   \n",
       "3  Xumu+NIjS6QYVxDS4/t3SawvJ7viT9hPKXmf0RtLNx8=   \n",
       "4  FGtllVqz18RPiwJj/edr2gV78zirAiY/9SmYvia+kCg=   \n",
       "\n",
       "                                        song_id source_system_tab  \\\n",
       "0  BBzumQNXUHKdEBOB7mAJuzok+IJA1c2Ryg/yzTF6tik=           explore   \n",
       "1  bhp/MpSNoqoxOIB+/l8WPqu6jldth4DIpCm3ayXnJqM=        my library   \n",
       "2  JNWfrrC7zNN7BdMpsISKa4Mw+xVJYNnxXh3/Epw7QgY=        my library   \n",
       "3  2A87tzfnJTSWqD7gIZHisolhe4DMdzkbd6LzO1KHjNs=        my library   \n",
       "4  3qm6XTZ6MOCU11x8FIVbAGH5l5uMkT3/ZalWG1oo2Gc=           explore   \n",
       "\n",
       "    source_screen_name      source_type  target  song_length genre_ids  \\\n",
       "0              Explore  online-playlist       1     206471.0       359   \n",
       "1  Local playlist more   local-playlist       1     284584.0      1259   \n",
       "2  Local playlist more   local-playlist       1     225396.0      1259   \n",
       "3  Local playlist more   local-playlist       1     255512.0      1019   \n",
       "4              Explore  online-playlist       1     187802.0      1011   \n",
       "\n",
       "       artist_name                                 composer lyricist  \\\n",
       "0         Bastille                     Dan Smith| Mark Crew      NaN   \n",
       "1  Various Artists                                      NaN      NaN   \n",
       "2              Nas     N. Jones、W. Adams、J. Lordan、D. Ingle      NaN   \n",
       "3         Soundway                            Kwadwo Donkoh      NaN   \n",
       "4      Brett Young  Brett Young| Kelly Archer| Justin Ebach      NaN   \n",
       "\n",
       "   language                                     name          isrc  city  bd  \\\n",
       "0      52.0                               Good Grief  GBUM71602854     1   0   \n",
       "1      52.0                       Lords of Cardboard  US3C69910183    13  24   \n",
       "2      52.0  Hip Hop Is Dead(Album Version (Edited))  USUM70618761    13  24   \n",
       "3      -1.0                             Disco Africa  GBUQH1000063    13  24   \n",
       "4      52.0                        Sleep Without You  QM3E21606003     1   0   \n",
       "\n",
       "   gender  registered_via registration_init_time expiration_date  \n",
       "0     NaN               7             2012-01-02      2017-10-05  \n",
       "1  female               9             2011-05-25      2017-09-11  \n",
       "2  female               9             2011-05-25      2017-09-11  \n",
       "3  female               9             2011-05-25      2017-09-11  \n",
       "4     NaN               7             2012-01-02      2017-10-05  "
      ]
     },
     "execution_count": 15,
     "metadata": {},
     "output_type": "execute_result"
    }
   ],
   "source": [
    "df_trainMerge.head(5)"
   ]
  },
  {
   "cell_type": "code",
   "execution_count": 16,
   "metadata": {},
   "outputs": [
    {
     "data": {
      "text/plain": [
       "(7377418, 20)"
      ]
     },
     "execution_count": 16,
     "metadata": {},
     "output_type": "execute_result"
    }
   ],
   "source": [
    "df_trainMerge.shape"
   ]
  },
  {
   "cell_type": "code",
   "execution_count": 17,
   "metadata": {},
   "outputs": [
    {
     "data": {
      "text/plain": [
       "msno                            0\n",
       "song_id                         0\n",
       "source_system_tab           24849\n",
       "source_screen_name         414804\n",
       "source_type                 21539\n",
       "target                          0\n",
       "song_length                   114\n",
       "genre_ids                  118455\n",
       "artist_name                   114\n",
       "composer                  1675706\n",
       "lyricist                  3178798\n",
       "language                      150\n",
       "name                         1571\n",
       "isrc                       577963\n",
       "city                            0\n",
       "bd                              0\n",
       "gender                    2961479\n",
       "registered_via                  0\n",
       "registration_init_time          0\n",
       "expiration_date                 0\n",
       "dtype: int64"
      ]
     },
     "execution_count": 17,
     "metadata": {},
     "output_type": "execute_result"
    }
   ],
   "source": [
    "df_trainMerge.isnull().sum()"
   ]
  },
  {
   "cell_type": "code",
   "execution_count": 18,
   "metadata": {},
   "outputs": [
    {
     "name": "stdout",
     "output_type": "stream",
     "text": [
      "<class 'pandas.core.frame.DataFrame'>\n",
      "Int64Index: 7377418 entries, 0 to 7377417\n",
      "Data columns (total 20 columns):\n",
      "msno                      object\n",
      "song_id                   object\n",
      "source_system_tab         object\n",
      "source_screen_name        object\n",
      "source_type               object\n",
      "target                    int64\n",
      "song_length               float64\n",
      "genre_ids                 object\n",
      "artist_name               object\n",
      "composer                  object\n",
      "lyricist                  object\n",
      "language                  float64\n",
      "name                      object\n",
      "isrc                      object\n",
      "city                      int64\n",
      "bd                        int64\n",
      "gender                    object\n",
      "registered_via            int64\n",
      "registration_init_time    datetime64[ns]\n",
      "expiration_date           datetime64[ns]\n",
      "dtypes: datetime64[ns](2), float64(2), int64(4), object(12)\n",
      "memory usage: 1.2+ GB\n"
     ]
    }
   ],
   "source": [
    "df_trainMerge.info()"
   ]
  },
  {
   "cell_type": "markdown",
   "metadata": {},
   "source": [
    "##  bd: age"
   ]
  },
  {
   "cell_type": "code",
   "execution_count": 19,
   "metadata": {},
   "outputs": [
    {
     "data": {
      "text/plain": [
       "0     2940499\n",
       "25     261906\n",
       "24     258688\n",
       "26     257869\n",
       "22     255731\n",
       "Name: bd, dtype: int64"
      ]
     },
     "execution_count": 19,
     "metadata": {},
     "output_type": "execute_result"
    }
   ],
   "source": [
    "df_trainMerge[\"bd\"].value_counts().head(5)"
   ]
  },
  {
   "cell_type": "code",
   "execution_count": 20,
   "metadata": {},
   "outputs": [
    {
     "data": {
      "text/plain": [
       "<matplotlib.axes._subplots.AxesSubplot at 0x26e003964e0>"
      ]
     },
     "execution_count": 20,
     "metadata": {},
     "output_type": "execute_result"
    },
    {
     "data": {
      "image/png": "[encoded data removed]",
      "text/plain": [
       "<Figure size 864x720 with 1 Axes>"
      ]
     },
     "metadata": {},
     "output_type": "display_data"
    }
   ],
   "source": [
    "#well looks like a lot of people are yet to be born but have started listening to music \n",
    "plt.figure(figsize=(12,10))\n",
    "sns.countplot(df_trainMerge['bd'],hue=df_trainMerge['target'])"
   ]
  },
  {
   "cell_type": "code",
   "execution_count": 21,
   "metadata": {},
   "outputs": [
    {
     "name": "stdout",
     "output_type": "stream",
     "text": [
      "0 : 39.85810482746132\n",
      "25 : 3.5501038439193766\n",
      "24 : 3.5064842469275836\n",
      "26 : 3.495382801950493\n",
      "22 : 3.466402473060358\n",
      "27 : 3.430265168653857\n",
      "28 : 3.152159739355964\n",
      "23 : 3.0939686486518725\n",
      "21 : 3.010362161937957\n",
      "29 : 2.8626817675235428\n",
      "30 : 2.7537683238227793\n",
      "20 : 2.5678225091759748\n",
      "31 : 2.1937756543007323\n",
      "32 : 2.054160412220102\n",
      "19 : 1.9121324018782724\n",
      "33 : 1.7276369591637617\n",
      "18 : 1.6925704901091412\n",
      "34 : 1.5632027356996716\n",
      "35 : 1.5253168520476947\n",
      "17 : 1.1808874053225669\n",
      "36 : 1.1200666683113252\n",
      "37 : 1.0806219737040792\n",
      "38 : 1.018865950119676\n",
      "40 : 0.7358129903985378\n",
      "39 : 0.7140167467805132\n",
      "41 : 0.6964225153027793\n",
      "16 : 0.5715278705910387\n",
      "43 : 0.4785007437561488\n",
      "44 : 0.45465771357946644\n",
      "45 : 0.43279369557208225\n",
      "42 : 0.42962185415005627\n",
      "47 : 0.4228444152141034\n",
      "46 : 0.41545700677391467\n",
      "50 : 0.2929615754455014\n",
      "49 : 0.2828225267973158\n",
      "48 : 0.2647538745940653\n",
      "51 : 0.25168697232554804\n",
      "54 : 0.19481070477503104\n",
      "53 : 0.1933061133312495\n",
      "52 : 0.17046614411708813\n",
      "55 : 0.14965940658371263\n",
      "15 : 0.13420684580973993\n",
      "59 : 0.08589726107426744\n",
      "57 : 0.08337605379009295\n",
      "60 : 0.08238654770544383\n",
      "58 : 0.08071929772719941\n",
      "14 : 0.07619196851798285\n",
      "56 : 0.07193573686620441\n",
      "65 : 0.035025804421004746\n",
      "62 : 0.03497158490951712\n",
      "67 : 0.0339956337027399\n",
      "63 : 0.03380586541253322\n",
      "64 : 0.03265370079342122\n",
      "66 : 0.030240932532221976\n",
      "61 : 0.0254289508876954\n",
      "74 : 0.023111066771599496\n",
      "103 : 0.022717975313314223\n",
      "111 : 0.018515963173023408\n",
      "1030 : 0.01831264000494482\n",
      "105 : 0.017770444890068585\n",
      "7 : 0.014368170544220214\n",
      "72 : 0.006899432836800084\n",
      "3 : 0.0068723230810562716\n",
      "82 : 0.0060590304087419205\n",
      "5 : 0.005313512125787098\n",
      "73 : 0.005096634079836604\n",
      "10 : 0.004893310911758016\n",
      "13 : 0.004676432865807522\n",
      "2 : 0.004378225552625593\n",
      "68 : 0.004215567018162723\n",
      "11 : 0.0039309145828527\n",
      "931 : 0.003348054834360748\n",
      "12 : 0.003009182887563101\n",
      "95 : 0.0027516402079968898\n",
      "87 : 0.002087451192273503\n",
      "144 : 0.002060341436529691\n",
      "131 : 0.001979012169298256\n",
      "-43 : 0.0019247926578106324\n",
      "107 : 0.001274158519959151\n",
      "112 : 0.0012199390084715275\n",
      "-38 : 0.0007184085272110107\n",
      "102 : 0.0006235243821076697\n",
      "83 : 0.0005421951148762345\n",
      "70 : 0.00044731096977289347\n",
      "106 : 0.00031176219105383485\n",
      "90 : 0.00020332316807858793\n",
      "85 : 0.00016265853446287035\n",
      "89 : 0.00014910365659096447\n",
      "93 : 0.00013554877871905862\n",
      "78 : 9.488414510334104e-05\n",
      "1051 : 8.132926723143518e-05\n",
      "76 : 4.066463361571759e-05\n"
     ]
    }
   ],
   "source": [
    "# Almost 40% have an age 0. see below\n",
    "df_len = len(df_trainMerge)\n",
    "for lang_id,count in zip(df_trainMerge['bd'].value_counts().index,df_trainMerge['bd'].value_counts()):\n",
    "    print(lang_id,\":\",(100*count / df_len))"
   ]
  },
  {
   "cell_type": "code",
   "execution_count": 22,
   "metadata": {},
   "outputs": [
    {
     "data": {
      "text/plain": [
       "2940694"
      ]
     },
     "execution_count": 22,
     "metadata": {},
     "output_type": "execute_result"
    }
   ],
   "source": [
    "# age is less than or equal zero\n",
    "len(df_trainMerge.query(\"bd< = 0\"))"
   ]
  },
  {
   "cell_type": "code",
   "execution_count": 23,
   "metadata": {},
   "outputs": [
    {
     "data": {
      "text/plain": [
       "6508"
      ]
     },
     "execution_count": 23,
     "metadata": {},
     "output_type": "execute_result"
    }
   ],
   "source": [
    "# age is less than or equal zero\n",
    "len(df_trainMerge.query(\"bd > =100\"))"
   ]
  },
  {
   "cell_type": "markdown",
   "metadata": {},
   "source": [
    "2940694 of people aged less than 0 . We can delete them since the count is very small .\n",
    "6508 people are aged above 100 . Lets see how to deal with them .\n",
    "lets create a temporary dataframe of genuine ages and do some analysis on them first ."
   ]
  },
  {
   "cell_type": "code",
   "execution_count": 24,
   "metadata": {},
   "outputs": [],
   "source": [
    "df_trainMergeTemp = df_trainMerge.query(\"bd >=5 and bd < 100\")"
   ]
  },
  {
   "cell_type": "code",
   "execution_count": 25,
   "metadata": {},
   "outputs": [
    {
     "data": {
      "text/plain": [
       "count    4.429386e+06\n",
       "mean     2.872689e+01\n",
       "std      8.627730e+00\n",
       "min      5.000000e+00\n",
       "25%      2.300000e+01\n",
       "50%      2.700000e+01\n",
       "75%      3.300000e+01\n",
       "max      9.500000e+01\n",
       "Name: bd, dtype: float64"
      ]
     },
     "execution_count": 25,
     "metadata": {},
     "output_type": "execute_result"
    }
   ],
   "source": [
    "df_trainMergeTemp['bd'].describe()"
   ]
  },
  {
   "cell_type": "code",
   "execution_count": 26,
   "metadata": {},
   "outputs": [
    {
     "data": {
      "text/plain": [
       "<matplotlib.axes._subplots.AxesSubplot at 0x26e00451208>"
      ]
     },
     "execution_count": 26,
     "metadata": {},
     "output_type": "execute_result"
    },
    {
     "data": {
      "image/png": "[encoded data removed]",
      "text/plain": [
       "<Figure size 1080x864 with 1 Axes>"
      ]
     },
     "metadata": {},
     "output_type": "display_data"
    }
   ],
   "source": [
    "plt.figure(figsize=(15,12))\n",
    "sns.countplot(df_trainMergeTemp['bd'])"
   ]
  },
  {
   "cell_type": "markdown",
   "metadata": {},
   "source": [
    "Lets bin the ages into the ranges (5-10,10-18,18-40,40-60,60-80,80-100) year"
   ]
  },
  {
   "cell_type": "code",
   "execution_count": 27,
   "metadata": {},
   "outputs": [],
   "source": [
    "df_trainMergeTemp['age_range'] = pd.cut(df_trainMergeTemp['bd'],bins=[5,10,18,30,45,60,80])"
   ]
  },
  {
   "cell_type": "code",
   "execution_count": 28,
   "metadata": {},
   "outputs": [
    {
     "data": {
      "text/plain": [
       "<matplotlib.axes._subplots.AxesSubplot at 0x26e01e1de10>"
      ]
     },
     "execution_count": 28,
     "metadata": {},
     "output_type": "execute_result"
    },
    {
     "data": {
      "image/png": "[encoded data removed]",
      "text/plain": [
       "<Figure size 1080x864 with 1 Axes>"
      ]
     },
     "metadata": {},
     "output_type": "display_data"
    }
   ],
   "source": [
    "plt.figure(figsize=(15,12))\n",
    "sns.countplot(df_trainMergeTemp['age_range'],hue=df_trainMergeTemp['target'])"
   ]
  },
  {
   "cell_type": "code",
   "execution_count": 29,
   "metadata": {},
   "outputs": [
    {
     "data": {
      "text/plain": [
       "(4429386, 21)"
      ]
     },
     "execution_count": 29,
     "metadata": {},
     "output_type": "execute_result"
    }
   ],
   "source": [
    "df_trainMergeTemp.shape"
   ]
  },
  {
   "cell_type": "code",
   "execution_count": 30,
   "metadata": {},
   "outputs": [
    {
     "data": {
      "text/plain": [
       "msno                            0\n",
       "song_id                         0\n",
       "source_system_tab           16841\n",
       "source_screen_name         229405\n",
       "source_type                 13748\n",
       "target                          0\n",
       "song_length                    74\n",
       "genre_ids                   70927\n",
       "artist_name                    74\n",
       "composer                   992863\n",
       "lyricist                  1884393\n",
       "language                       97\n",
       "name                          910\n",
       "isrc                       329498\n",
       "city                            0\n",
       "bd                              0\n",
       "gender                     148255\n",
       "registered_via                  0\n",
       "registration_init_time          0\n",
       "expiration_date                 0\n",
       "age_range                    1284\n",
       "dtype: int64"
      ]
     },
     "execution_count": 30,
     "metadata": {},
     "output_type": "execute_result"
    }
   ],
   "source": [
    "df_trainMergeTemp.isnull().sum()"
   ]
  },
  {
   "cell_type": "code",
   "execution_count": 31,
   "metadata": {},
   "outputs": [
    {
     "data": {
      "text/html": [
       "<div>\n",
       "<style scoped>\n",
       "    .dataframe tbody tr th:only-of-type {\n",
       "        vertical-align: middle;\n",
       "    }\n",
       "\n",
       "    .dataframe tbody tr th {\n",
       "        vertical-align: top;\n",
       "    }\n",
       "\n",
       "    .dataframe thead th {\n",
       "        text-align: right;\n",
       "    }\n",
       "</style>\n",
       "<table border=\"1\" class=\"dataframe\">\n",
       "  <thead>\n",
       "    <tr style=\"text-align: right;\">\n",
       "      <th></th>\n",
       "      <th>msno</th>\n",
       "      <th>song_id</th>\n",
       "      <th>source_system_tab</th>\n",
       "      <th>source_screen_name</th>\n",
       "      <th>source_type</th>\n",
       "      <th>target</th>\n",
       "      <th>song_length</th>\n",
       "      <th>genre_ids</th>\n",
       "      <th>artist_name</th>\n",
       "      <th>composer</th>\n",
       "      <th>...</th>\n",
       "      <th>language</th>\n",
       "      <th>name</th>\n",
       "      <th>isrc</th>\n",
       "      <th>city</th>\n",
       "      <th>bd</th>\n",
       "      <th>gender</th>\n",
       "      <th>registered_via</th>\n",
       "      <th>registration_init_time</th>\n",
       "      <th>expiration_date</th>\n",
       "      <th>age_range</th>\n",
       "    </tr>\n",
       "  </thead>\n",
       "  <tbody>\n",
       "    <tr>\n",
       "      <th>1</th>\n",
       "      <td>Xumu+NIjS6QYVxDS4/t3SawvJ7viT9hPKXmf0RtLNx8=</td>\n",
       "      <td>bhp/MpSNoqoxOIB+/l8WPqu6jldth4DIpCm3ayXnJqM=</td>\n",
       "      <td>my library</td>\n",
       "      <td>Local playlist more</td>\n",
       "      <td>local-playlist</td>\n",
       "      <td>1</td>\n",
       "      <td>284584.0</td>\n",
       "      <td>1259</td>\n",
       "      <td>Various Artists</td>\n",
       "      <td>NaN</td>\n",
       "      <td>...</td>\n",
       "      <td>52.0</td>\n",
       "      <td>Lords of Cardboard</td>\n",
       "      <td>US3C69910183</td>\n",
       "      <td>13</td>\n",
       "      <td>24</td>\n",
       "      <td>female</td>\n",
       "      <td>9</td>\n",
       "      <td>2011-05-25</td>\n",
       "      <td>2017-09-11</td>\n",
       "      <td>(18, 30]</td>\n",
       "    </tr>\n",
       "    <tr>\n",
       "      <th>2</th>\n",
       "      <td>Xumu+NIjS6QYVxDS4/t3SawvJ7viT9hPKXmf0RtLNx8=</td>\n",
       "      <td>JNWfrrC7zNN7BdMpsISKa4Mw+xVJYNnxXh3/Epw7QgY=</td>\n",
       "      <td>my library</td>\n",
       "      <td>Local playlist more</td>\n",
       "      <td>local-playlist</td>\n",
       "      <td>1</td>\n",
       "      <td>225396.0</td>\n",
       "      <td>1259</td>\n",
       "      <td>Nas</td>\n",
       "      <td>N. Jones、W. Adams、J. Lordan、D. Ingle</td>\n",
       "      <td>...</td>\n",
       "      <td>52.0</td>\n",
       "      <td>Hip Hop Is Dead(Album Version (Edited))</td>\n",
       "      <td>USUM70618761</td>\n",
       "      <td>13</td>\n",
       "      <td>24</td>\n",
       "      <td>female</td>\n",
       "      <td>9</td>\n",
       "      <td>2011-05-25</td>\n",
       "      <td>2017-09-11</td>\n",
       "      <td>(18, 30]</td>\n",
       "    </tr>\n",
       "    <tr>\n",
       "      <th>3</th>\n",
       "      <td>Xumu+NIjS6QYVxDS4/t3SawvJ7viT9hPKXmf0RtLNx8=</td>\n",
       "      <td>2A87tzfnJTSWqD7gIZHisolhe4DMdzkbd6LzO1KHjNs=</td>\n",
       "      <td>my library</td>\n",
       "      <td>Local playlist more</td>\n",
       "      <td>local-playlist</td>\n",
       "      <td>1</td>\n",
       "      <td>255512.0</td>\n",
       "      <td>1019</td>\n",
       "      <td>Soundway</td>\n",
       "      <td>Kwadwo Donkoh</td>\n",
       "      <td>...</td>\n",
       "      <td>-1.0</td>\n",
       "      <td>Disco Africa</td>\n",
       "      <td>GBUQH1000063</td>\n",
       "      <td>13</td>\n",
       "      <td>24</td>\n",
       "      <td>female</td>\n",
       "      <td>9</td>\n",
       "      <td>2011-05-25</td>\n",
       "      <td>2017-09-11</td>\n",
       "      <td>(18, 30]</td>\n",
       "    </tr>\n",
       "    <tr>\n",
       "      <th>6</th>\n",
       "      <td>Xumu+NIjS6QYVxDS4/t3SawvJ7viT9hPKXmf0RtLNx8=</td>\n",
       "      <td>VkILU0H1h3NMmk9MQrXouNudGk5n8Ls5cqRRuBxeTh4=</td>\n",
       "      <td>my library</td>\n",
       "      <td>Local playlist more</td>\n",
       "      <td>local-playlist</td>\n",
       "      <td>1</td>\n",
       "      <td>229982.0</td>\n",
       "      <td>465</td>\n",
       "      <td>BIGBANG TAEYANG</td>\n",
       "      <td>TEDDY| DEE.P| Rebecca Johnson</td>\n",
       "      <td>...</td>\n",
       "      <td>31.0</td>\n",
       "      <td>眼| 鼻| 口 (Eyes| Nose| Lips)</td>\n",
       "      <td>TWA531400512</td>\n",
       "      <td>13</td>\n",
       "      <td>24</td>\n",
       "      <td>female</td>\n",
       "      <td>9</td>\n",
       "      <td>2011-05-25</td>\n",
       "      <td>2017-09-11</td>\n",
       "      <td>(18, 30]</td>\n",
       "    </tr>\n",
       "    <tr>\n",
       "      <th>8</th>\n",
       "      <td>uHqAtShXTRXju5GE8ri3ITsVFepPf8jUoCF7ffNOuqE=</td>\n",
       "      <td>/bU6IRSK+YNlNbaTkxo7bhsb2EDLPrnksdX3ggcZNhI=</td>\n",
       "      <td>my library</td>\n",
       "      <td>Local playlist more</td>\n",
       "      <td>local-library</td>\n",
       "      <td>1</td>\n",
       "      <td>278964.0</td>\n",
       "      <td>2022</td>\n",
       "      <td>OneRepublic</td>\n",
       "      <td>Ryan Tedder</td>\n",
       "      <td>...</td>\n",
       "      <td>52.0</td>\n",
       "      <td>Dreaming Out Loud</td>\n",
       "      <td>USUM70759544</td>\n",
       "      <td>15</td>\n",
       "      <td>26</td>\n",
       "      <td>male</td>\n",
       "      <td>9</td>\n",
       "      <td>2011-11-07</td>\n",
       "      <td>2018-03-04</td>\n",
       "      <td>(18, 30]</td>\n",
       "    </tr>\n",
       "  </tbody>\n",
       "</table>\n",
       "<p>5 rows × 21 columns</p>\n",
       "</div>"
      ],
      "text/plain": [
       "                                           msno  \\\n",
       "1  Xumu+NIjS6QYVxDS4/t3SawvJ7viT9hPKXmf0RtLNx8=   \n",
       "2  Xumu+NIjS6QYVxDS4/t3SawvJ7viT9hPKXmf0RtLNx8=   \n",
       "3  Xumu+NIjS6QYVxDS4/t3SawvJ7viT9hPKXmf0RtLNx8=   \n",
       "6  Xumu+NIjS6QYVxDS4/t3SawvJ7viT9hPKXmf0RtLNx8=   \n",
       "8  uHqAtShXTRXju5GE8ri3ITsVFepPf8jUoCF7ffNOuqE=   \n",
       "\n",
       "                                        song_id source_system_tab  \\\n",
       "1  bhp/MpSNoqoxOIB+/l8WPqu6jldth4DIpCm3ayXnJqM=        my library   \n",
       "2  JNWfrrC7zNN7BdMpsISKa4Mw+xVJYNnxXh3/Epw7QgY=        my library   \n",
       "3  2A87tzfnJTSWqD7gIZHisolhe4DMdzkbd6LzO1KHjNs=        my library   \n",
       "6  VkILU0H1h3NMmk9MQrXouNudGk5n8Ls5cqRRuBxeTh4=        my library   \n",
       "8  /bU6IRSK+YNlNbaTkxo7bhsb2EDLPrnksdX3ggcZNhI=        my library   \n",
       "\n",
       "    source_screen_name     source_type  target  song_length genre_ids  \\\n",
       "1  Local playlist more  local-playlist       1     284584.0      1259   \n",
       "2  Local playlist more  local-playlist       1     225396.0      1259   \n",
       "3  Local playlist more  local-playlist       1     255512.0      1019   \n",
       "6  Local playlist more  local-playlist       1     229982.0       465   \n",
       "8  Local playlist more   local-library       1     278964.0      2022   \n",
       "\n",
       "       artist_name                              composer    ...    language  \\\n",
       "1  Various Artists                                   NaN    ...        52.0   \n",
       "2              Nas  N. Jones、W. Adams、J. Lordan、D. Ingle    ...        52.0   \n",
       "3         Soundway                         Kwadwo Donkoh    ...        -1.0   \n",
       "6  BIGBANG TAEYANG         TEDDY| DEE.P| Rebecca Johnson    ...        31.0   \n",
       "8      OneRepublic                           Ryan Tedder    ...        52.0   \n",
       "\n",
       "                                      name          isrc city  bd  gender  \\\n",
       "1                       Lords of Cardboard  US3C69910183   13  24  female   \n",
       "2  Hip Hop Is Dead(Album Version (Edited))  USUM70618761   13  24  female   \n",
       "3                             Disco Africa  GBUQH1000063   13  24  female   \n",
       "6               眼| 鼻| 口 (Eyes| Nose| Lips)  TWA531400512   13  24  female   \n",
       "8                        Dreaming Out Loud  USUM70759544   15  26    male   \n",
       "\n",
       "  registered_via  registration_init_time expiration_date age_range  \n",
       "1              9              2011-05-25      2017-09-11  (18, 30]  \n",
       "2              9              2011-05-25      2017-09-11  (18, 30]  \n",
       "3              9              2011-05-25      2017-09-11  (18, 30]  \n",
       "6              9              2011-05-25      2017-09-11  (18, 30]  \n",
       "8              9              2011-11-07      2018-03-04  (18, 30]  \n",
       "\n",
       "[5 rows x 21 columns]"
      ]
     },
     "execution_count": 31,
     "metadata": {},
     "output_type": "execute_result"
    }
   ],
   "source": [
    "df_trainMergeTemp.head()"
   ]
  },
  {
   "cell_type": "markdown",
   "metadata": {},
   "source": [
    "## Gender"
   ]
  },
  {
   "cell_type": "code",
   "execution_count": 32,
   "metadata": {},
   "outputs": [],
   "source": [
    "#df_trainMergeTemp['gender'] = df_trainMergeTemp['gender'].apply(na_randomfill)\n",
    "\n",
    "def impute_nan_create_category(DataFrame,ColName):\n",
    "     DataFrame[ColName] = np.where(DataFrame[ColName].isnull(),\"Unknown\",DataFrame[ColName])\n",
    "## Call function to create new category for variables\n",
    "for Columns in ['gender']:\n",
    "    impute_nan_create_category(df_trainMergeTemp,Columns)"
   ]
  },
  {
   "cell_type": "code",
   "execution_count": 33,
   "metadata": {},
   "outputs": [
    {
     "name": "stdout",
     "output_type": "stream",
     "text": [
      "0\n",
      "male       2241394\n",
      "female     2039737\n",
      "Unknown     148255\n",
      "Name: gender, dtype: int64\n"
     ]
    }
   ],
   "source": [
    "print(df_trainMergeTemp[\"gender\"].isnull().sum())\n",
    "print(df_trainMergeTemp[\"gender\"].value_counts())"
   ]
  },
  {
   "cell_type": "code",
   "execution_count": 34,
   "metadata": {},
   "outputs": [],
   "source": [
    "from sklearn.preprocessing import LabelEncoder\n",
    "labelEncoder = LabelEncoder()\n",
    "df_trainMergeTemp[\"gender\"] = labelEncoder.fit_transform(df_trainMergeTemp[\"gender\"])"
   ]
  },
  {
   "cell_type": "code",
   "execution_count": 35,
   "metadata": {},
   "outputs": [
    {
     "data": {
      "text/plain": [
       "msno                            0\n",
       "song_id                         0\n",
       "source_system_tab           16841\n",
       "source_screen_name         229405\n",
       "source_type                 13748\n",
       "target                          0\n",
       "song_length                    74\n",
       "genre_ids                   70927\n",
       "artist_name                    74\n",
       "composer                   992863\n",
       "lyricist                  1884393\n",
       "language                       97\n",
       "name                          910\n",
       "isrc                       329498\n",
       "city                            0\n",
       "bd                              0\n",
       "gender                          0\n",
       "registered_via                  0\n",
       "registration_init_time          0\n",
       "expiration_date                 0\n",
       "age_range                    1284\n",
       "dtype: int64"
      ]
     },
     "execution_count": 35,
     "metadata": {},
     "output_type": "execute_result"
    }
   ],
   "source": [
    "df_trainMergeTemp.isnull().sum()"
   ]
  },
  {
   "cell_type": "markdown",
   "metadata": {},
   "source": [
    "## Language"
   ]
  },
  {
   "cell_type": "code",
   "execution_count": 36,
   "metadata": {},
   "outputs": [
    {
     "data": {
      "text/plain": [
       " 3.0     2485198\n",
       " 52.0    1109815\n",
       " 31.0     380580\n",
       "-1.0      175561\n",
       " 17.0     138306\n",
       " 10.0      89139\n",
       " 24.0      47182\n",
       " 59.0       2304\n",
       " 45.0       1090\n",
       " 38.0        114\n",
       "Name: language, dtype: int64"
      ]
     },
     "execution_count": 36,
     "metadata": {},
     "output_type": "execute_result"
    }
   ],
   "source": [
    "df_trainMergeTemp['language'].value_counts()"
   ]
  },
  {
   "cell_type": "markdown",
   "metadata": {},
   "source": [
    "Replacing -1 with 1 ."
   ]
  },
  {
   "cell_type": "code",
   "execution_count": 37,
   "metadata": {},
   "outputs": [],
   "source": [
    "df_trainMergeTemp = df_trainMergeTemp.replace(to_replace =-1,value =1)"
   ]
  },
  {
   "cell_type": "code",
   "execution_count": 38,
   "metadata": {},
   "outputs": [
    {
     "data": {
      "text/plain": [
       "<matplotlib.axes._subplots.AxesSubplot at 0x26e027c1d68>"
      ]
     },
     "execution_count": 38,
     "metadata": {},
     "output_type": "execute_result"
    },
    {
     "data": {
      "image/png": "[encoded data removed]",
      "text/plain": [
       "<Figure size 864x720 with 1 Axes>"
      ]
     },
     "metadata": {},
     "output_type": "display_data"
    }
   ],
   "source": [
    "plt.figure(figsize=(12,10))\n",
    "sns.countplot(df_trainMergeTemp['language'],hue=df_trainMergeTemp['target'])"
   ]
  },
  {
   "cell_type": "markdown",
   "metadata": {},
   "source": [
    "Language with code 3.0 seems taiwaneese (after a bit of googling ) 52.0 is of course english 31.0 is Korean .\n",
    "\n",
    "The above 3 languages make up for most of the data"
   ]
  },
  {
   "cell_type": "code",
   "execution_count": 39,
   "metadata": {},
   "outputs": [
    {
     "name": "stdout",
     "output_type": "stream",
     "text": [
      "3.0 : 56.1070541154011\n",
      "52.0 : 25.055730071842916\n",
      "31.0 : 8.592161532094968\n",
      "1.0 : 3.9635516073785397\n",
      "17.0 : 3.122464377681241\n",
      "10.0 : 2.012445968809221\n",
      "24.0 : 1.0652040711737474\n",
      "59.0 : 0.05201623881955648\n",
      "45.0 : 0.024608376872099203\n",
      "38.0 : 0.0025737201499259716\n"
     ]
    }
   ],
   "source": [
    "df_len = len(df_trainMergeTemp)\n",
    "for lang_id,count in zip(df_trainMergeTemp['language'].value_counts().index,df_trainMergeTemp['language'].value_counts()) : \n",
    "    print(lang_id,\":\",(100*count / df_len))"
   ]
  },
  {
   "cell_type": "markdown",
   "metadata": {},
   "source": [
    "As we can clearly see above , the first 3 languages make up for 90% of the data , languages being Taiwanees ,English and Korean"
   ]
  },
  {
   "cell_type": "code",
   "execution_count": 40,
   "metadata": {},
   "outputs": [],
   "source": [
    "#df = df_trainMergeTemp[\"language\"].fillna(value='missing', method='bfill', limit=1) \n",
    "df_trainMergeTemp[\"language\"] = df_trainMergeTemp[\"language\"].fillna(method='ffill')"
   ]
  },
  {
   "cell_type": "code",
   "execution_count": 41,
   "metadata": {},
   "outputs": [
    {
     "data": {
      "text/plain": [
       "0"
      ]
     },
     "execution_count": 41,
     "metadata": {},
     "output_type": "execute_result"
    }
   ],
   "source": [
    "df_trainMergeTemp[\"language\"].isnull().sum()"
   ]
  },
  {
   "cell_type": "code",
   "execution_count": 42,
   "metadata": {},
   "outputs": [
    {
     "data": {
      "text/plain": [
       "msno                            0\n",
       "song_id                         0\n",
       "source_system_tab           16841\n",
       "source_screen_name         229405\n",
       "source_type                 13748\n",
       "target                          0\n",
       "song_length                    74\n",
       "genre_ids                   70927\n",
       "artist_name                    74\n",
       "composer                   992863\n",
       "lyricist                  1884393\n",
       "language                        0\n",
       "name                          910\n",
       "isrc                       329498\n",
       "city                            0\n",
       "bd                              0\n",
       "gender                          0\n",
       "registered_via                  0\n",
       "registration_init_time          0\n",
       "expiration_date                 0\n",
       "age_range                    1284\n",
       "dtype: int64"
      ]
     },
     "execution_count": 42,
     "metadata": {},
     "output_type": "execute_result"
    }
   ],
   "source": [
    "df_trainMergeTemp.isnull().sum()"
   ]
  },
  {
   "cell_type": "markdown",
   "metadata": {},
   "source": [
    "## Source Type"
   ]
  },
  {
   "cell_type": "code",
   "execution_count": 43,
   "metadata": {},
   "outputs": [
    {
     "name": "stdout",
     "output_type": "stream",
     "text": [
      "local-library : 30.555183043428592\n",
      "online-playlist : 25.08516981811926\n",
      "local-playlist : 17.143956295522674\n",
      "radio : 6.456131843104213\n",
      "album : 5.979632391487217\n",
      "top-hits-for-artist : 5.52844118801116\n",
      "listen-with : 3.068890360876203\n",
      "song : 3.0278688739251898\n",
      "song-based-playlist : 2.632599642478664\n",
      "topic-article-playlist : 0.1693462705666203\n",
      "artist : 0.03876383769669205\n",
      "my-daily-playlist : 0.0036348152994568547\n"
     ]
    }
   ],
   "source": [
    "df_len = len(df_trainMergeTemp)\n",
    "for lang_id,count in zip(df_trainMergeTemp['source_type'].value_counts().index,df_trainMergeTemp['source_type'].value_counts()):\n",
    "    print(lang_id,\":\",(100*count / df_len))"
   ]
  },
  {
   "cell_type": "code",
   "execution_count": 44,
   "metadata": {},
   "outputs": [
    {
     "data": {
      "text/plain": [
       "<matplotlib.axes._subplots.AxesSubplot at 0x26e02870be0>"
      ]
     },
     "execution_count": 44,
     "metadata": {},
     "output_type": "execute_result"
    },
    {
     "data": {
      "image/png": "[encoded data removed]",
      "text/plain": [
       "<Figure size 1728x720 with 1 Axes>"
      ]
     },
     "metadata": {},
     "output_type": "display_data"
    }
   ],
   "source": [
    "plt.figure(figsize=(24,10))\n",
    "sns.countplot(df_trainMergeTemp['source_type'],hue=df_trainMergeTemp['target'])"
   ]
  },
  {
   "cell_type": "code",
   "execution_count": 45,
   "metadata": {},
   "outputs": [
    {
     "data": {
      "text/plain": [
       "<matplotlib.axes._subplots.AxesSubplot at 0x26e01fa6b70>"
      ]
     },
     "execution_count": 45,
     "metadata": {},
     "output_type": "execute_result"
    },
    {
     "data": {
      "image/png": "[encoded data removed]",
      "text/plain": [
       "<Figure size 1728x720 with 1 Axes>"
      ]
     },
     "metadata": {},
     "output_type": "display_data"
    }
   ],
   "source": [
    "plt.figure(figsize=(24,10))\n",
    "sns.countplot(df_trainMergeTemp['source_type'],hue=df_trainMergeTemp['gender'])"
   ]
  },
  {
   "cell_type": "markdown",
   "metadata": {},
   "source": [
    "As we can clearly see above , the first 5 source_type make up for 90% of the data "
   ]
  },
  {
   "cell_type": "code",
   "execution_count": 46,
   "metadata": {},
   "outputs": [],
   "source": [
    "df_trainMergeTemp[\"source_type\"] = df_trainMergeTemp[\"source_type\"].fillna(method='ffill')"
   ]
  },
  {
   "cell_type": "code",
   "execution_count": 47,
   "metadata": {},
   "outputs": [
    {
     "name": "stdout",
     "output_type": "stream",
     "text": [
      "local-library : 30.659418709500596\n",
      "online-playlist : 25.162471728587214\n",
      "local-playlist : 17.202339105239417\n",
      "radio : 6.4683683020626335\n",
      "album : 5.998416033283168\n",
      "top-hits-for-artist : 5.540587340999407\n",
      "listen-with : 3.0767469802812397\n",
      "song : 3.0398795679581774\n",
      "song-based-playlist : 2.6394177432267134\n",
      "topic-article-playlist : 0.1697978004174845\n",
      "artist : 0.038921873144494516\n",
      "my-daily-playlist : 0.0036348152994568547\n"
     ]
    }
   ],
   "source": [
    "df_len = len(df_trainMergeTemp)\n",
    "for lang_id,count in zip(df_trainMergeTemp['source_type'].value_counts().index,df_trainMergeTemp['source_type'].value_counts()):\n",
    "    print(lang_id,\":\",(100*count / df_len))"
   ]
  },
  {
   "cell_type": "code",
   "execution_count": 48,
   "metadata": {},
   "outputs": [
    {
     "data": {
      "text/html": [
       "<div>\n",
       "<style scoped>\n",
       "    .dataframe tbody tr th:only-of-type {\n",
       "        vertical-align: middle;\n",
       "    }\n",
       "\n",
       "    .dataframe tbody tr th {\n",
       "        vertical-align: top;\n",
       "    }\n",
       "\n",
       "    .dataframe thead th {\n",
       "        text-align: right;\n",
       "    }\n",
       "</style>\n",
       "<table border=\"1\" class=\"dataframe\">\n",
       "  <thead>\n",
       "    <tr style=\"text-align: right;\">\n",
       "      <th></th>\n",
       "      <th>msno</th>\n",
       "      <th>song_id</th>\n",
       "      <th>source_system_tab</th>\n",
       "      <th>source_screen_name</th>\n",
       "      <th>source_type</th>\n",
       "      <th>target</th>\n",
       "      <th>song_length</th>\n",
       "      <th>genre_ids</th>\n",
       "      <th>artist_name</th>\n",
       "      <th>composer</th>\n",
       "      <th>...</th>\n",
       "      <th>language</th>\n",
       "      <th>name</th>\n",
       "      <th>isrc</th>\n",
       "      <th>city</th>\n",
       "      <th>bd</th>\n",
       "      <th>gender</th>\n",
       "      <th>registered_via</th>\n",
       "      <th>registration_init_time</th>\n",
       "      <th>expiration_date</th>\n",
       "      <th>age_range</th>\n",
       "    </tr>\n",
       "  </thead>\n",
       "  <tbody>\n",
       "    <tr>\n",
       "      <th>1</th>\n",
       "      <td>Xumu+NIjS6QYVxDS4/t3SawvJ7viT9hPKXmf0RtLNx8=</td>\n",
       "      <td>bhp/MpSNoqoxOIB+/l8WPqu6jldth4DIpCm3ayXnJqM=</td>\n",
       "      <td>my library</td>\n",
       "      <td>Local playlist more</td>\n",
       "      <td>local-playlist</td>\n",
       "      <td>1</td>\n",
       "      <td>284584.0</td>\n",
       "      <td>1259</td>\n",
       "      <td>Various Artists</td>\n",
       "      <td>NaN</td>\n",
       "      <td>...</td>\n",
       "      <td>52.0</td>\n",
       "      <td>Lords of Cardboard</td>\n",
       "      <td>US3C69910183</td>\n",
       "      <td>13</td>\n",
       "      <td>24</td>\n",
       "      <td>1</td>\n",
       "      <td>9</td>\n",
       "      <td>2011-05-25</td>\n",
       "      <td>2017-09-11</td>\n",
       "      <td>(18, 30]</td>\n",
       "    </tr>\n",
       "    <tr>\n",
       "      <th>2</th>\n",
       "      <td>Xumu+NIjS6QYVxDS4/t3SawvJ7viT9hPKXmf0RtLNx8=</td>\n",
       "      <td>JNWfrrC7zNN7BdMpsISKa4Mw+xVJYNnxXh3/Epw7QgY=</td>\n",
       "      <td>my library</td>\n",
       "      <td>Local playlist more</td>\n",
       "      <td>local-playlist</td>\n",
       "      <td>1</td>\n",
       "      <td>225396.0</td>\n",
       "      <td>1259</td>\n",
       "      <td>Nas</td>\n",
       "      <td>N. Jones、W. Adams、J. Lordan、D. Ingle</td>\n",
       "      <td>...</td>\n",
       "      <td>52.0</td>\n",
       "      <td>Hip Hop Is Dead(Album Version (Edited))</td>\n",
       "      <td>USUM70618761</td>\n",
       "      <td>13</td>\n",
       "      <td>24</td>\n",
       "      <td>1</td>\n",
       "      <td>9</td>\n",
       "      <td>2011-05-25</td>\n",
       "      <td>2017-09-11</td>\n",
       "      <td>(18, 30]</td>\n",
       "    </tr>\n",
       "    <tr>\n",
       "      <th>3</th>\n",
       "      <td>Xumu+NIjS6QYVxDS4/t3SawvJ7viT9hPKXmf0RtLNx8=</td>\n",
       "      <td>2A87tzfnJTSWqD7gIZHisolhe4DMdzkbd6LzO1KHjNs=</td>\n",
       "      <td>my library</td>\n",
       "      <td>Local playlist more</td>\n",
       "      <td>local-playlist</td>\n",
       "      <td>1</td>\n",
       "      <td>255512.0</td>\n",
       "      <td>1019</td>\n",
       "      <td>Soundway</td>\n",
       "      <td>Kwadwo Donkoh</td>\n",
       "      <td>...</td>\n",
       "      <td>1.0</td>\n",
       "      <td>Disco Africa</td>\n",
       "      <td>GBUQH1000063</td>\n",
       "      <td>13</td>\n",
       "      <td>24</td>\n",
       "      <td>1</td>\n",
       "      <td>9</td>\n",
       "      <td>2011-05-25</td>\n",
       "      <td>2017-09-11</td>\n",
       "      <td>(18, 30]</td>\n",
       "    </tr>\n",
       "    <tr>\n",
       "      <th>6</th>\n",
       "      <td>Xumu+NIjS6QYVxDS4/t3SawvJ7viT9hPKXmf0RtLNx8=</td>\n",
       "      <td>VkILU0H1h3NMmk9MQrXouNudGk5n8Ls5cqRRuBxeTh4=</td>\n",
       "      <td>my library</td>\n",
       "      <td>Local playlist more</td>\n",
       "      <td>local-playlist</td>\n",
       "      <td>1</td>\n",
       "      <td>229982.0</td>\n",
       "      <td>465</td>\n",
       "      <td>BIGBANG TAEYANG</td>\n",
       "      <td>TEDDY| DEE.P| Rebecca Johnson</td>\n",
       "      <td>...</td>\n",
       "      <td>31.0</td>\n",
       "      <td>眼| 鼻| 口 (Eyes| Nose| Lips)</td>\n",
       "      <td>TWA531400512</td>\n",
       "      <td>13</td>\n",
       "      <td>24</td>\n",
       "      <td>1</td>\n",
       "      <td>9</td>\n",
       "      <td>2011-05-25</td>\n",
       "      <td>2017-09-11</td>\n",
       "      <td>(18, 30]</td>\n",
       "    </tr>\n",
       "    <tr>\n",
       "      <th>8</th>\n",
       "      <td>uHqAtShXTRXju5GE8ri3ITsVFepPf8jUoCF7ffNOuqE=</td>\n",
       "      <td>/bU6IRSK+YNlNbaTkxo7bhsb2EDLPrnksdX3ggcZNhI=</td>\n",
       "      <td>my library</td>\n",
       "      <td>Local playlist more</td>\n",
       "      <td>local-library</td>\n",
       "      <td>1</td>\n",
       "      <td>278964.0</td>\n",
       "      <td>2022</td>\n",
       "      <td>OneRepublic</td>\n",
       "      <td>Ryan Tedder</td>\n",
       "      <td>...</td>\n",
       "      <td>52.0</td>\n",
       "      <td>Dreaming Out Loud</td>\n",
       "      <td>USUM70759544</td>\n",
       "      <td>15</td>\n",
       "      <td>26</td>\n",
       "      <td>2</td>\n",
       "      <td>9</td>\n",
       "      <td>2011-11-07</td>\n",
       "      <td>2018-03-04</td>\n",
       "      <td>(18, 30]</td>\n",
       "    </tr>\n",
       "  </tbody>\n",
       "</table>\n",
       "<p>5 rows × 21 columns</p>\n",
       "</div>"
      ],
      "text/plain": [
       "                                           msno  \\\n",
       "1  Xumu+NIjS6QYVxDS4/t3SawvJ7viT9hPKXmf0RtLNx8=   \n",
       "2  Xumu+NIjS6QYVxDS4/t3SawvJ7viT9hPKXmf0RtLNx8=   \n",
       "3  Xumu+NIjS6QYVxDS4/t3SawvJ7viT9hPKXmf0RtLNx8=   \n",
       "6  Xumu+NIjS6QYVxDS4/t3SawvJ7viT9hPKXmf0RtLNx8=   \n",
       "8  uHqAtShXTRXju5GE8ri3ITsVFepPf8jUoCF7ffNOuqE=   \n",
       "\n",
       "                                        song_id source_system_tab  \\\n",
       "1  bhp/MpSNoqoxOIB+/l8WPqu6jldth4DIpCm3ayXnJqM=        my library   \n",
       "2  JNWfrrC7zNN7BdMpsISKa4Mw+xVJYNnxXh3/Epw7QgY=        my library   \n",
       "3  2A87tzfnJTSWqD7gIZHisolhe4DMdzkbd6LzO1KHjNs=        my library   \n",
       "6  VkILU0H1h3NMmk9MQrXouNudGk5n8Ls5cqRRuBxeTh4=        my library   \n",
       "8  /bU6IRSK+YNlNbaTkxo7bhsb2EDLPrnksdX3ggcZNhI=        my library   \n",
       "\n",
       "    source_screen_name     source_type  target  song_length genre_ids  \\\n",
       "1  Local playlist more  local-playlist       1     284584.0      1259   \n",
       "2  Local playlist more  local-playlist       1     225396.0      1259   \n",
       "3  Local playlist more  local-playlist       1     255512.0      1019   \n",
       "6  Local playlist more  local-playlist       1     229982.0       465   \n",
       "8  Local playlist more   local-library       1     278964.0      2022   \n",
       "\n",
       "       artist_name                              composer    ...    language  \\\n",
       "1  Various Artists                                   NaN    ...        52.0   \n",
       "2              Nas  N. Jones、W. Adams、J. Lordan、D. Ingle    ...        52.0   \n",
       "3         Soundway                         Kwadwo Donkoh    ...         1.0   \n",
       "6  BIGBANG TAEYANG         TEDDY| DEE.P| Rebecca Johnson    ...        31.0   \n",
       "8      OneRepublic                           Ryan Tedder    ...        52.0   \n",
       "\n",
       "                                      name          isrc city  bd  gender  \\\n",
       "1                       Lords of Cardboard  US3C69910183   13  24       1   \n",
       "2  Hip Hop Is Dead(Album Version (Edited))  USUM70618761   13  24       1   \n",
       "3                             Disco Africa  GBUQH1000063   13  24       1   \n",
       "6               眼| 鼻| 口 (Eyes| Nose| Lips)  TWA531400512   13  24       1   \n",
       "8                        Dreaming Out Loud  USUM70759544   15  26       2   \n",
       "\n",
       "   registered_via  registration_init_time expiration_date age_range  \n",
       "1               9              2011-05-25      2017-09-11  (18, 30]  \n",
       "2               9              2011-05-25      2017-09-11  (18, 30]  \n",
       "3               9              2011-05-25      2017-09-11  (18, 30]  \n",
       "6               9              2011-05-25      2017-09-11  (18, 30]  \n",
       "8               9              2011-11-07      2018-03-04  (18, 30]  \n",
       "\n",
       "[5 rows x 21 columns]"
      ]
     },
     "execution_count": 48,
     "metadata": {},
     "output_type": "execute_result"
    }
   ],
   "source": [
    "df_trainMergeTemp.head(5)"
   ]
  },
  {
   "cell_type": "code",
   "execution_count": 49,
   "metadata": {},
   "outputs": [
    {
     "data": {
      "text/plain": [
       "local-library             1358024\n",
       "online-playlist           1114543\n",
       "local-playlist             761958\n",
       "radio                      286509\n",
       "album                      265693\n",
       "top-hits-for-artist        245414\n",
       "listen-with                136281\n",
       "song                       134648\n",
       "song-based-playlist        116910\n",
       "topic-article-playlist       7521\n",
       "artist                       1724\n",
       "my-daily-playlist             161\n",
       "Name: source_type, dtype: int64"
      ]
     },
     "execution_count": 49,
     "metadata": {},
     "output_type": "execute_result"
    }
   ],
   "source": [
    "df_trainMergeTemp[\"source_type\"].value_counts()"
   ]
  },
  {
   "cell_type": "code",
   "execution_count": 50,
   "metadata": {},
   "outputs": [
    {
     "data": {
      "text/plain": [
       "dtype('O')"
      ]
     },
     "execution_count": 50,
     "metadata": {},
     "output_type": "execute_result"
    }
   ],
   "source": [
    "df_trainMergeTemp[\"source_type\"].dtypes"
   ]
  },
  {
   "cell_type": "code",
   "execution_count": 51,
   "metadata": {},
   "outputs": [],
   "source": [
    "df_trainMergeTemp[\"source_type\"] = labelEncoder.fit_transform(df_trainMergeTemp[\"source_type\"] )"
   ]
  },
  {
   "cell_type": "markdown",
   "metadata": {},
   "source": [
    "## Source Length"
   ]
  },
  {
   "cell_type": "code",
   "execution_count": 52,
   "metadata": {},
   "outputs": [
    {
     "data": {
      "text/plain": [
       "74"
      ]
     },
     "execution_count": 52,
     "metadata": {},
     "output_type": "execute_result"
    }
   ],
   "source": [
    "df_trainMergeTemp[\"song_length\"].isnull().sum()"
   ]
  },
  {
   "cell_type": "code",
   "execution_count": 53,
   "metadata": {},
   "outputs": [],
   "source": [
    "df_trainMergeTemp[\"song_length\"]= df_trainMergeTemp[\"song_length\"].fillna(df_trainMergeTemp[\"song_length\"].mean())"
   ]
  },
  {
   "cell_type": "code",
   "execution_count": 54,
   "metadata": {},
   "outputs": [
    {
     "data": {
      "text/plain": [
       "0"
      ]
     },
     "execution_count": 54,
     "metadata": {},
     "output_type": "execute_result"
    }
   ],
   "source": [
    "df_trainMergeTemp[\"song_length\"].isnull().sum()"
   ]
  },
  {
   "cell_type": "code",
   "execution_count": 55,
   "metadata": {},
   "outputs": [],
   "source": [
    "df_New= df_trainMergeTemp.drop(['source_system_tab','source_screen_name','artist_name','composer','lyricist','isrc','name','genre_ids','age_range'],axis =1)"
   ]
  },
  {
   "cell_type": "code",
   "execution_count": 56,
   "metadata": {},
   "outputs": [
    {
     "data": {
      "text/html": [
       "<div>\n",
       "<style scoped>\n",
       "    .dataframe tbody tr th:only-of-type {\n",
       "        vertical-align: middle;\n",
       "    }\n",
       "\n",
       "    .dataframe tbody tr th {\n",
       "        vertical-align: top;\n",
       "    }\n",
       "\n",
       "    .dataframe thead th {\n",
       "        text-align: right;\n",
       "    }\n",
       "</style>\n",
       "<table border=\"1\" class=\"dataframe\">\n",
       "  <thead>\n",
       "    <tr style=\"text-align: right;\">\n",
       "      <th></th>\n",
       "      <th>msno</th>\n",
       "      <th>song_id</th>\n",
       "      <th>source_type</th>\n",
       "      <th>target</th>\n",
       "      <th>song_length</th>\n",
       "      <th>language</th>\n",
       "      <th>city</th>\n",
       "      <th>bd</th>\n",
       "      <th>gender</th>\n",
       "      <th>registered_via</th>\n",
       "      <th>registration_init_time</th>\n",
       "      <th>expiration_date</th>\n",
       "    </tr>\n",
       "  </thead>\n",
       "  <tbody>\n",
       "    <tr>\n",
       "      <th>1</th>\n",
       "      <td>Xumu+NIjS6QYVxDS4/t3SawvJ7viT9hPKXmf0RtLNx8=</td>\n",
       "      <td>bhp/MpSNoqoxOIB+/l8WPqu6jldth4DIpCm3ayXnJqM=</td>\n",
       "      <td>4</td>\n",
       "      <td>1</td>\n",
       "      <td>284584.0</td>\n",
       "      <td>52.0</td>\n",
       "      <td>13</td>\n",
       "      <td>24</td>\n",
       "      <td>1</td>\n",
       "      <td>9</td>\n",
       "      <td>2011-05-25</td>\n",
       "      <td>2017-09-11</td>\n",
       "    </tr>\n",
       "    <tr>\n",
       "      <th>2</th>\n",
       "      <td>Xumu+NIjS6QYVxDS4/t3SawvJ7viT9hPKXmf0RtLNx8=</td>\n",
       "      <td>JNWfrrC7zNN7BdMpsISKa4Mw+xVJYNnxXh3/Epw7QgY=</td>\n",
       "      <td>4</td>\n",
       "      <td>1</td>\n",
       "      <td>225396.0</td>\n",
       "      <td>52.0</td>\n",
       "      <td>13</td>\n",
       "      <td>24</td>\n",
       "      <td>1</td>\n",
       "      <td>9</td>\n",
       "      <td>2011-05-25</td>\n",
       "      <td>2017-09-11</td>\n",
       "    </tr>\n",
       "    <tr>\n",
       "      <th>3</th>\n",
       "      <td>Xumu+NIjS6QYVxDS4/t3SawvJ7viT9hPKXmf0RtLNx8=</td>\n",
       "      <td>2A87tzfnJTSWqD7gIZHisolhe4DMdzkbd6LzO1KHjNs=</td>\n",
       "      <td>4</td>\n",
       "      <td>1</td>\n",
       "      <td>255512.0</td>\n",
       "      <td>1.0</td>\n",
       "      <td>13</td>\n",
       "      <td>24</td>\n",
       "      <td>1</td>\n",
       "      <td>9</td>\n",
       "      <td>2011-05-25</td>\n",
       "      <td>2017-09-11</td>\n",
       "    </tr>\n",
       "    <tr>\n",
       "      <th>6</th>\n",
       "      <td>Xumu+NIjS6QYVxDS4/t3SawvJ7viT9hPKXmf0RtLNx8=</td>\n",
       "      <td>VkILU0H1h3NMmk9MQrXouNudGk5n8Ls5cqRRuBxeTh4=</td>\n",
       "      <td>4</td>\n",
       "      <td>1</td>\n",
       "      <td>229982.0</td>\n",
       "      <td>31.0</td>\n",
       "      <td>13</td>\n",
       "      <td>24</td>\n",
       "      <td>1</td>\n",
       "      <td>9</td>\n",
       "      <td>2011-05-25</td>\n",
       "      <td>2017-09-11</td>\n",
       "    </tr>\n",
       "    <tr>\n",
       "      <th>8</th>\n",
       "      <td>uHqAtShXTRXju5GE8ri3ITsVFepPf8jUoCF7ffNOuqE=</td>\n",
       "      <td>/bU6IRSK+YNlNbaTkxo7bhsb2EDLPrnksdX3ggcZNhI=</td>\n",
       "      <td>3</td>\n",
       "      <td>1</td>\n",
       "      <td>278964.0</td>\n",
       "      <td>52.0</td>\n",
       "      <td>15</td>\n",
       "      <td>26</td>\n",
       "      <td>2</td>\n",
       "      <td>9</td>\n",
       "      <td>2011-11-07</td>\n",
       "      <td>2018-03-04</td>\n",
       "    </tr>\n",
       "  </tbody>\n",
       "</table>\n",
       "</div>"
      ],
      "text/plain": [
       "                                           msno  \\\n",
       "1  Xumu+NIjS6QYVxDS4/t3SawvJ7viT9hPKXmf0RtLNx8=   \n",
       "2  Xumu+NIjS6QYVxDS4/t3SawvJ7viT9hPKXmf0RtLNx8=   \n",
       "3  Xumu+NIjS6QYVxDS4/t3SawvJ7viT9hPKXmf0RtLNx8=   \n",
       "6  Xumu+NIjS6QYVxDS4/t3SawvJ7viT9hPKXmf0RtLNx8=   \n",
       "8  uHqAtShXTRXju5GE8ri3ITsVFepPf8jUoCF7ffNOuqE=   \n",
       "\n",
       "                                        song_id  source_type  target  \\\n",
       "1  bhp/MpSNoqoxOIB+/l8WPqu6jldth4DIpCm3ayXnJqM=            4       1   \n",
       "2  JNWfrrC7zNN7BdMpsISKa4Mw+xVJYNnxXh3/Epw7QgY=            4       1   \n",
       "3  2A87tzfnJTSWqD7gIZHisolhe4DMdzkbd6LzO1KHjNs=            4       1   \n",
       "6  VkILU0H1h3NMmk9MQrXouNudGk5n8Ls5cqRRuBxeTh4=            4       1   \n",
       "8  /bU6IRSK+YNlNbaTkxo7bhsb2EDLPrnksdX3ggcZNhI=            3       1   \n",
       "\n",
       "   song_length  language  city  bd  gender  registered_via  \\\n",
       "1     284584.0      52.0    13  24       1               9   \n",
       "2     225396.0      52.0    13  24       1               9   \n",
       "3     255512.0       1.0    13  24       1               9   \n",
       "6     229982.0      31.0    13  24       1               9   \n",
       "8     278964.0      52.0    15  26       2               9   \n",
       "\n",
       "  registration_init_time expiration_date  \n",
       "1             2011-05-25      2017-09-11  \n",
       "2             2011-05-25      2017-09-11  \n",
       "3             2011-05-25      2017-09-11  \n",
       "6             2011-05-25      2017-09-11  \n",
       "8             2011-11-07      2018-03-04  "
      ]
     },
     "execution_count": 56,
     "metadata": {},
     "output_type": "execute_result"
    }
   ],
   "source": [
    "df_New.head()"
   ]
  },
  {
   "cell_type": "code",
   "execution_count": 57,
   "metadata": {},
   "outputs": [],
   "source": [
    "df_New.msno = labelEncoder.fit_transform(df_New.msno)\n",
    "df_New.song_id = labelEncoder.fit_transform(df_New.song_id)\n"
   ]
  },
  {
   "cell_type": "code",
   "execution_count": 58,
   "metadata": {},
   "outputs": [
    {
     "name": "stdout",
     "output_type": "stream",
     "text": [
      "<class 'pandas.core.frame.DataFrame'>\n",
      "Int64Index: 4429386 entries, 1 to 7377413\n",
      "Data columns (total 12 columns):\n",
      "msno                      int64\n",
      "song_id                   int64\n",
      "source_type               int64\n",
      "target                    int64\n",
      "song_length               float64\n",
      "language                  float64\n",
      "city                      int64\n",
      "bd                        int64\n",
      "gender                    int64\n",
      "registered_via            int64\n",
      "registration_init_time    datetime64[ns]\n",
      "expiration_date           datetime64[ns]\n",
      "dtypes: datetime64[ns](2), float64(2), int64(8)\n",
      "memory usage: 439.3 MB\n"
     ]
    }
   ],
   "source": [
    "df_New.info()"
   ]
  },
  {
   "cell_type": "code",
   "execution_count": 59,
   "metadata": {},
   "outputs": [],
   "source": [
    "# registration_init_time\n",
    "df_New.registration_init_time = pd.to_datetime(df_New.registration_init_time, format='%Y%m%d', errors='ignore')\n",
    "df_New['registration_init_time_year'] = df_New['registration_init_time'].dt.year\n",
    "df_New['registration_init_time_month'] = df_New['registration_init_time'].dt.month\n",
    "df_New['registration_init_time_day'] = df_New['registration_init_time'].dt.day\n",
    "\n",
    "# expiration_date\n",
    "df_New.expiration_date = pd.to_datetime(df_New.expiration_date,  format='%Y%m%d', errors='ignore')\n",
    "df_New['expiration_date_year'] = df_New['expiration_date'].dt.year\n",
    "df_New['expiration_date_month'] = df_New['expiration_date'].dt.month\n",
    "df_New['expiration_date_day'] = df_New['expiration_date'].dt.day"
   ]
  },
  {
   "cell_type": "code",
   "execution_count": 60,
   "metadata": {},
   "outputs": [],
   "source": [
    "df_New= df_New.drop(['registration_init_time','expiration_date',],axis=1)"
   ]
  },
  {
   "cell_type": "code",
   "execution_count": 61,
   "metadata": {},
   "outputs": [
    {
     "data": {
      "text/html": [
       "<div>\n",
       "<style scoped>\n",
       "    .dataframe tbody tr th:only-of-type {\n",
       "        vertical-align: middle;\n",
       "    }\n",
       "\n",
       "    .dataframe tbody tr th {\n",
       "        vertical-align: top;\n",
       "    }\n",
       "\n",
       "    .dataframe thead th {\n",
       "        text-align: right;\n",
       "    }\n",
       "</style>\n",
       "<table border=\"1\" class=\"dataframe\">\n",
       "  <thead>\n",
       "    <tr style=\"text-align: right;\">\n",
       "      <th></th>\n",
       "      <th>msno</th>\n",
       "      <th>song_id</th>\n",
       "      <th>source_type</th>\n",
       "      <th>target</th>\n",
       "      <th>song_length</th>\n",
       "      <th>language</th>\n",
       "      <th>city</th>\n",
       "      <th>bd</th>\n",
       "      <th>gender</th>\n",
       "      <th>registered_via</th>\n",
       "      <th>registration_init_time_year</th>\n",
       "      <th>registration_init_time_month</th>\n",
       "      <th>registration_init_time_day</th>\n",
       "      <th>expiration_date_year</th>\n",
       "      <th>expiration_date_month</th>\n",
       "      <th>expiration_date_day</th>\n",
       "    </tr>\n",
       "  </thead>\n",
       "  <tbody>\n",
       "    <tr>\n",
       "      <th>1</th>\n",
       "      <td>7604</td>\n",
       "      <td>173476</td>\n",
       "      <td>4</td>\n",
       "      <td>1</td>\n",
       "      <td>284584.0</td>\n",
       "      <td>52.0</td>\n",
       "      <td>13</td>\n",
       "      <td>24</td>\n",
       "      <td>1</td>\n",
       "      <td>9</td>\n",
       "      <td>2011</td>\n",
       "      <td>5</td>\n",
       "      <td>25</td>\n",
       "      <td>2017</td>\n",
       "      <td>9</td>\n",
       "      <td>11</td>\n",
       "    </tr>\n",
       "    <tr>\n",
       "      <th>2</th>\n",
       "      <td>7604</td>\n",
       "      <td>93819</td>\n",
       "      <td>4</td>\n",
       "      <td>1</td>\n",
       "      <td>225396.0</td>\n",
       "      <td>52.0</td>\n",
       "      <td>13</td>\n",
       "      <td>24</td>\n",
       "      <td>1</td>\n",
       "      <td>9</td>\n",
       "      <td>2011</td>\n",
       "      <td>5</td>\n",
       "      <td>25</td>\n",
       "      <td>2017</td>\n",
       "      <td>9</td>\n",
       "      <td>11</td>\n",
       "    </tr>\n",
       "    <tr>\n",
       "      <th>3</th>\n",
       "      <td>7604</td>\n",
       "      <td>18522</td>\n",
       "      <td>4</td>\n",
       "      <td>1</td>\n",
       "      <td>255512.0</td>\n",
       "      <td>1.0</td>\n",
       "      <td>13</td>\n",
       "      <td>24</td>\n",
       "      <td>1</td>\n",
       "      <td>9</td>\n",
       "      <td>2011</td>\n",
       "      <td>5</td>\n",
       "      <td>25</td>\n",
       "      <td>2017</td>\n",
       "      <td>9</td>\n",
       "      <td>11</td>\n",
       "    </tr>\n",
       "    <tr>\n",
       "      <th>6</th>\n",
       "      <td>7604</td>\n",
       "      <td>147379</td>\n",
       "      <td>4</td>\n",
       "      <td>1</td>\n",
       "      <td>229982.0</td>\n",
       "      <td>31.0</td>\n",
       "      <td>13</td>\n",
       "      <td>24</td>\n",
       "      <td>1</td>\n",
       "      <td>9</td>\n",
       "      <td>2011</td>\n",
       "      <td>5</td>\n",
       "      <td>25</td>\n",
       "      <td>2017</td>\n",
       "      <td>9</td>\n",
       "      <td>11</td>\n",
       "    </tr>\n",
       "    <tr>\n",
       "      <th>8</th>\n",
       "      <td>12445</td>\n",
       "      <td>7171</td>\n",
       "      <td>3</td>\n",
       "      <td>1</td>\n",
       "      <td>278964.0</td>\n",
       "      <td>52.0</td>\n",
       "      <td>15</td>\n",
       "      <td>26</td>\n",
       "      <td>2</td>\n",
       "      <td>9</td>\n",
       "      <td>2011</td>\n",
       "      <td>11</td>\n",
       "      <td>7</td>\n",
       "      <td>2018</td>\n",
       "      <td>3</td>\n",
       "      <td>4</td>\n",
       "    </tr>\n",
       "  </tbody>\n",
       "</table>\n",
       "</div>"
      ],
      "text/plain": [
       "    msno  song_id  source_type  target  song_length  language  city  bd  \\\n",
       "1   7604   173476            4       1     284584.0      52.0    13  24   \n",
       "2   7604    93819            4       1     225396.0      52.0    13  24   \n",
       "3   7604    18522            4       1     255512.0       1.0    13  24   \n",
       "6   7604   147379            4       1     229982.0      31.0    13  24   \n",
       "8  12445     7171            3       1     278964.0      52.0    15  26   \n",
       "\n",
       "   gender  registered_via  registration_init_time_year  \\\n",
       "1       1               9                         2011   \n",
       "2       1               9                         2011   \n",
       "3       1               9                         2011   \n",
       "6       1               9                         2011   \n",
       "8       2               9                         2011   \n",
       "\n",
       "   registration_init_time_month  registration_init_time_day  \\\n",
       "1                             5                          25   \n",
       "2                             5                          25   \n",
       "3                             5                          25   \n",
       "6                             5                          25   \n",
       "8                            11                           7   \n",
       "\n",
       "   expiration_date_year  expiration_date_month  expiration_date_day  \n",
       "1                  2017                      9                   11  \n",
       "2                  2017                      9                   11  \n",
       "3                  2017                      9                   11  \n",
       "6                  2017                      9                   11  \n",
       "8                  2018                      3                    4  "
      ]
     },
     "execution_count": 61,
     "metadata": {},
     "output_type": "execute_result"
    }
   ],
   "source": [
    "df_New.head()"
   ]
  },
  {
   "cell_type": "code",
   "execution_count": 62,
   "metadata": {},
   "outputs": [],
   "source": [
    "y = df_New[\"target\"]\n",
    "X = df_New.drop(['target'],axis=1)"
   ]
  },
  {
   "cell_type": "code",
   "execution_count": 63,
   "metadata": {},
   "outputs": [
    {
     "data": {
      "text/plain": [
       "1    1\n",
       "2    1\n",
       "Name: target, dtype: int64"
      ]
     },
     "execution_count": 63,
     "metadata": {},
     "output_type": "execute_result"
    }
   ],
   "source": [
    "y.head(2)"
   ]
  },
  {
   "cell_type": "code",
   "execution_count": 64,
   "metadata": {},
   "outputs": [
    {
     "data": {
      "text/html": [
       "<div>\n",
       "<style scoped>\n",
       "    .dataframe tbody tr th:only-of-type {\n",
       "        vertical-align: middle;\n",
       "    }\n",
       "\n",
       "    .dataframe tbody tr th {\n",
       "        vertical-align: top;\n",
       "    }\n",
       "\n",
       "    .dataframe thead th {\n",
       "        text-align: right;\n",
       "    }\n",
       "</style>\n",
       "<table border=\"1\" class=\"dataframe\">\n",
       "  <thead>\n",
       "    <tr style=\"text-align: right;\">\n",
       "      <th></th>\n",
       "      <th>msno</th>\n",
       "      <th>song_id</th>\n",
       "      <th>source_type</th>\n",
       "      <th>song_length</th>\n",
       "      <th>language</th>\n",
       "      <th>city</th>\n",
       "      <th>bd</th>\n",
       "      <th>gender</th>\n",
       "      <th>registered_via</th>\n",
       "      <th>registration_init_time_year</th>\n",
       "      <th>registration_init_time_month</th>\n",
       "      <th>registration_init_time_day</th>\n",
       "      <th>expiration_date_year</th>\n",
       "      <th>expiration_date_month</th>\n",
       "      <th>expiration_date_day</th>\n",
       "    </tr>\n",
       "  </thead>\n",
       "  <tbody>\n",
       "    <tr>\n",
       "      <th>1</th>\n",
       "      <td>7604</td>\n",
       "      <td>173476</td>\n",
       "      <td>4</td>\n",
       "      <td>284584.0</td>\n",
       "      <td>52.0</td>\n",
       "      <td>13</td>\n",
       "      <td>24</td>\n",
       "      <td>1</td>\n",
       "      <td>9</td>\n",
       "      <td>2011</td>\n",
       "      <td>5</td>\n",
       "      <td>25</td>\n",
       "      <td>2017</td>\n",
       "      <td>9</td>\n",
       "      <td>11</td>\n",
       "    </tr>\n",
       "    <tr>\n",
       "      <th>2</th>\n",
       "      <td>7604</td>\n",
       "      <td>93819</td>\n",
       "      <td>4</td>\n",
       "      <td>225396.0</td>\n",
       "      <td>52.0</td>\n",
       "      <td>13</td>\n",
       "      <td>24</td>\n",
       "      <td>1</td>\n",
       "      <td>9</td>\n",
       "      <td>2011</td>\n",
       "      <td>5</td>\n",
       "      <td>25</td>\n",
       "      <td>2017</td>\n",
       "      <td>9</td>\n",
       "      <td>11</td>\n",
       "    </tr>\n",
       "  </tbody>\n",
       "</table>\n",
       "</div>"
      ],
      "text/plain": [
       "   msno  song_id  source_type  song_length  language  city  bd  gender  \\\n",
       "1  7604   173476            4     284584.0      52.0    13  24       1   \n",
       "2  7604    93819            4     225396.0      52.0    13  24       1   \n",
       "\n",
       "   registered_via  registration_init_time_year  registration_init_time_month  \\\n",
       "1               9                         2011                             5   \n",
       "2               9                         2011                             5   \n",
       "\n",
       "   registration_init_time_day  expiration_date_year  expiration_date_month  \\\n",
       "1                          25                  2017                      9   \n",
       "2                          25                  2017                      9   \n",
       "\n",
       "   expiration_date_day  \n",
       "1                   11  \n",
       "2                   11  "
      ]
     },
     "execution_count": 64,
     "metadata": {},
     "output_type": "execute_result"
    }
   ],
   "source": [
    "X.head(2)"
   ]
  },
  {
   "cell_type": "code",
   "execution_count": 65,
   "metadata": {},
   "outputs": [
    {
     "data": {
      "text/html": [
       "<div>\n",
       "<style scoped>\n",
       "    .dataframe tbody tr th:only-of-type {\n",
       "        vertical-align: middle;\n",
       "    }\n",
       "\n",
       "    .dataframe tbody tr th {\n",
       "        vertical-align: top;\n",
       "    }\n",
       "\n",
       "    .dataframe thead th {\n",
       "        text-align: right;\n",
       "    }\n",
       "</style>\n",
       "<table border=\"1\" class=\"dataframe\">\n",
       "  <thead>\n",
       "    <tr style=\"text-align: right;\">\n",
       "      <th></th>\n",
       "      <th>msno</th>\n",
       "      <th>song_id</th>\n",
       "      <th>source_type</th>\n",
       "      <th>song_length</th>\n",
       "      <th>language</th>\n",
       "      <th>city</th>\n",
       "      <th>bd</th>\n",
       "      <th>gender</th>\n",
       "      <th>registered_via</th>\n",
       "      <th>registration_init_time_year</th>\n",
       "      <th>registration_init_time_month</th>\n",
       "      <th>registration_init_time_day</th>\n",
       "      <th>expiration_date_year</th>\n",
       "      <th>expiration_date_month</th>\n",
       "      <th>expiration_date_day</th>\n",
       "    </tr>\n",
       "  </thead>\n",
       "  <tbody>\n",
       "    <tr>\n",
       "      <th>count</th>\n",
       "      <td>4.429386e+06</td>\n",
       "      <td>4.429386e+06</td>\n",
       "      <td>4.429386e+06</td>\n",
       "      <td>4.429386e+06</td>\n",
       "      <td>4.429386e+06</td>\n",
       "      <td>4.429386e+06</td>\n",
       "      <td>4.429386e+06</td>\n",
       "      <td>4.429386e+06</td>\n",
       "      <td>4.429386e+06</td>\n",
       "      <td>4.429386e+06</td>\n",
       "      <td>4.429386e+06</td>\n",
       "      <td>4.429386e+06</td>\n",
       "      <td>4.429386e+06</td>\n",
       "      <td>4.429386e+06</td>\n",
       "      <td>4.429386e+06</td>\n",
       "    </tr>\n",
       "    <tr>\n",
       "      <th>mean</th>\n",
       "      <td>6.816413e+03</td>\n",
       "      <td>1.392470e+05</td>\n",
       "      <td>4.685991e+00</td>\n",
       "      <td>2.452804e+05</td>\n",
       "      <td>1.844644e+01</td>\n",
       "      <td>1.078496e+01</td>\n",
       "      <td>2.872689e+01</td>\n",
       "      <td>1.472557e+00</td>\n",
       "      <td>6.940222e+00</td>\n",
       "      <td>2.011797e+03</td>\n",
       "      <td>6.764237e+00</td>\n",
       "      <td>1.587335e+01</td>\n",
       "      <td>2.017129e+03</td>\n",
       "      <td>8.245797e+00</td>\n",
       "      <td>1.585665e+01</td>\n",
       "    </tr>\n",
       "    <tr>\n",
       "      <th>std</th>\n",
       "      <td>3.946994e+03</td>\n",
       "      <td>8.048718e+04</td>\n",
       "      <td>2.394800e+00</td>\n",
       "      <td>6.503208e+04</td>\n",
       "      <td>2.108177e+01</td>\n",
       "      <td>5.860560e+00</td>\n",
       "      <td>8.627730e+00</td>\n",
       "      <td>5.623064e-01</td>\n",
       "      <td>2.576407e+00</td>\n",
       "      <td>3.206137e+00</td>\n",
       "      <td>3.595583e+00</td>\n",
       "      <td>8.779509e+00</td>\n",
       "      <td>4.167263e-01</td>\n",
       "      <td>2.610895e+00</td>\n",
       "      <td>9.149411e+00</td>\n",
       "    </tr>\n",
       "    <tr>\n",
       "      <th>min</th>\n",
       "      <td>0.000000e+00</td>\n",
       "      <td>0.000000e+00</td>\n",
       "      <td>0.000000e+00</td>\n",
       "      <td>1.393000e+03</td>\n",
       "      <td>1.000000e+00</td>\n",
       "      <td>1.000000e+00</td>\n",
       "      <td>5.000000e+00</td>\n",
       "      <td>0.000000e+00</td>\n",
       "      <td>3.000000e+00</td>\n",
       "      <td>2.004000e+03</td>\n",
       "      <td>1.000000e+00</td>\n",
       "      <td>1.000000e+00</td>\n",
       "      <td>2.005000e+03</td>\n",
       "      <td>1.000000e+00</td>\n",
       "      <td>1.000000e+00</td>\n",
       "    </tr>\n",
       "    <tr>\n",
       "      <th>25%</th>\n",
       "      <td>3.418000e+03</td>\n",
       "      <td>6.915000e+04</td>\n",
       "      <td>3.000000e+00</td>\n",
       "      <td>2.151440e+05</td>\n",
       "      <td>3.000000e+00</td>\n",
       "      <td>5.000000e+00</td>\n",
       "      <td>2.300000e+01</td>\n",
       "      <td>1.000000e+00</td>\n",
       "      <td>4.000000e+00</td>\n",
       "      <td>2.010000e+03</td>\n",
       "      <td>3.000000e+00</td>\n",
       "      <td>8.000000e+00</td>\n",
       "      <td>2.017000e+03</td>\n",
       "      <td>8.000000e+00</td>\n",
       "      <td>8.000000e+00</td>\n",
       "    </tr>\n",
       "    <tr>\n",
       "      <th>50%</th>\n",
       "      <td>6.823000e+03</td>\n",
       "      <td>1.386530e+05</td>\n",
       "      <td>4.000000e+00</td>\n",
       "      <td>2.422070e+05</td>\n",
       "      <td>3.000000e+00</td>\n",
       "      <td>1.300000e+01</td>\n",
       "      <td>2.700000e+01</td>\n",
       "      <td>2.000000e+00</td>\n",
       "      <td>9.000000e+00</td>\n",
       "      <td>2.012000e+03</td>\n",
       "      <td>7.000000e+00</td>\n",
       "      <td>1.600000e+01</td>\n",
       "      <td>2.017000e+03</td>\n",
       "      <td>9.000000e+00</td>\n",
       "      <td>1.600000e+01</td>\n",
       "    </tr>\n",
       "    <tr>\n",
       "      <th>75%</th>\n",
       "      <td>1.024500e+04</td>\n",
       "      <td>2.078440e+05</td>\n",
       "      <td>6.000000e+00</td>\n",
       "      <td>2.723000e+05</td>\n",
       "      <td>5.200000e+01</td>\n",
       "      <td>1.400000e+01</td>\n",
       "      <td>3.300000e+01</td>\n",
       "      <td>2.000000e+00</td>\n",
       "      <td>9.000000e+00</td>\n",
       "      <td>2.014000e+03</td>\n",
       "      <td>1.000000e+01</td>\n",
       "      <td>2.400000e+01</td>\n",
       "      <td>2.017000e+03</td>\n",
       "      <td>1.000000e+01</td>\n",
       "      <td>2.400000e+01</td>\n",
       "    </tr>\n",
       "    <tr>\n",
       "      <th>max</th>\n",
       "      <td>1.362300e+04</td>\n",
       "      <td>2.793220e+05</td>\n",
       "      <td>1.100000e+01</td>\n",
       "      <td>1.085171e+07</td>\n",
       "      <td>5.900000e+01</td>\n",
       "      <td>2.200000e+01</td>\n",
       "      <td>9.500000e+01</td>\n",
       "      <td>2.000000e+00</td>\n",
       "      <td>1.300000e+01</td>\n",
       "      <td>2.017000e+03</td>\n",
       "      <td>1.200000e+01</td>\n",
       "      <td>3.100000e+01</td>\n",
       "      <td>2.020000e+03</td>\n",
       "      <td>1.200000e+01</td>\n",
       "      <td>3.100000e+01</td>\n",
       "    </tr>\n",
       "  </tbody>\n",
       "</table>\n",
       "</div>"
      ],
      "text/plain": [
       "               msno       song_id   source_type   song_length      language  \\\n",
       "count  4.429386e+06  4.429386e+06  4.429386e+06  4.429386e+06  4.429386e+06   \n",
       "mean   6.816413e+03  1.392470e+05  4.685991e+00  2.452804e+05  1.844644e+01   \n",
       "std    3.946994e+03  8.048718e+04  2.394800e+00  6.503208e+04  2.108177e+01   \n",
       "min    0.000000e+00  0.000000e+00  0.000000e+00  1.393000e+03  1.000000e+00   \n",
       "25%    3.418000e+03  6.915000e+04  3.000000e+00  2.151440e+05  3.000000e+00   \n",
       "50%    6.823000e+03  1.386530e+05  4.000000e+00  2.422070e+05  3.000000e+00   \n",
       "75%    1.024500e+04  2.078440e+05  6.000000e+00  2.723000e+05  5.200000e+01   \n",
       "max    1.362300e+04  2.793220e+05  1.100000e+01  1.085171e+07  5.900000e+01   \n",
       "\n",
       "               city            bd        gender  registered_via  \\\n",
       "count  4.429386e+06  4.429386e+06  4.429386e+06    4.429386e+06   \n",
       "mean   1.078496e+01  2.872689e+01  1.472557e+00    6.940222e+00   \n",
       "std    5.860560e+00  8.627730e+00  5.623064e-01    2.576407e+00   \n",
       "min    1.000000e+00  5.000000e+00  0.000000e+00    3.000000e+00   \n",
       "25%    5.000000e+00  2.300000e+01  1.000000e+00    4.000000e+00   \n",
       "50%    1.300000e+01  2.700000e+01  2.000000e+00    9.000000e+00   \n",
       "75%    1.400000e+01  3.300000e+01  2.000000e+00    9.000000e+00   \n",
       "max    2.200000e+01  9.500000e+01  2.000000e+00    1.300000e+01   \n",
       "\n",
       "       registration_init_time_year  registration_init_time_month  \\\n",
       "count                 4.429386e+06                  4.429386e+06   \n",
       "mean                  2.011797e+03                  6.764237e+00   \n",
       "std                   3.206137e+00                  3.595583e+00   \n",
       "min                   2.004000e+03                  1.000000e+00   \n",
       "25%                   2.010000e+03                  3.000000e+00   \n",
       "50%                   2.012000e+03                  7.000000e+00   \n",
       "75%                   2.014000e+03                  1.000000e+01   \n",
       "max                   2.017000e+03                  1.200000e+01   \n",
       "\n",
       "       registration_init_time_day  expiration_date_year  \\\n",
       "count                4.429386e+06          4.429386e+06   \n",
       "mean                 1.587335e+01          2.017129e+03   \n",
       "std                  8.779509e+00          4.167263e-01   \n",
       "min                  1.000000e+00          2.005000e+03   \n",
       "25%                  8.000000e+00          2.017000e+03   \n",
       "50%                  1.600000e+01          2.017000e+03   \n",
       "75%                  2.400000e+01          2.017000e+03   \n",
       "max                  3.100000e+01          2.020000e+03   \n",
       "\n",
       "       expiration_date_month  expiration_date_day  \n",
       "count           4.429386e+06         4.429386e+06  \n",
       "mean            8.245797e+00         1.585665e+01  \n",
       "std             2.610895e+00         9.149411e+00  \n",
       "min             1.000000e+00         1.000000e+00  \n",
       "25%             8.000000e+00         8.000000e+00  \n",
       "50%             9.000000e+00         1.600000e+01  \n",
       "75%             1.000000e+01         2.400000e+01  \n",
       "max             1.200000e+01         3.100000e+01  "
      ]
     },
     "execution_count": 65,
     "metadata": {},
     "output_type": "execute_result"
    }
   ],
   "source": [
    "X.describe()"
   ]
  },
  {
   "cell_type": "code",
   "execution_count": 66,
   "metadata": {},
   "outputs": [
    {
     "data": {
      "image/png": "[encoded data removed]",
      "text/plain": [
       "<Figure size 1440x1440 with 2 Axes>"
      ]
     },
     "metadata": {},
     "output_type": "display_data"
    }
   ],
   "source": [
    "import matplotlib.pyplot as plt\n",
    "import seaborn as sns\n",
    "#get correlations of each features in dataset\n",
    "corrmat = df_New.corr()\n",
    "top_corr_features = corrmat.index\n",
    "plt.figure(figsize=(20,20))\n",
    "#plot heat map\n",
    "g=sns.heatmap(df_New[top_corr_features].corr(),annot=True,cmap=\"RdYlGn\")"
   ]
  },
  {
   "cell_type": "code",
   "execution_count": 67,
   "metadata": {},
   "outputs": [
    {
     "data": {
      "text/html": [
       "<div>\n",
       "<style scoped>\n",
       "    .dataframe tbody tr th:only-of-type {\n",
       "        vertical-align: middle;\n",
       "    }\n",
       "\n",
       "    .dataframe tbody tr th {\n",
       "        vertical-align: top;\n",
       "    }\n",
       "\n",
       "    .dataframe thead th {\n",
       "        text-align: right;\n",
       "    }\n",
       "</style>\n",
       "<table border=\"1\" class=\"dataframe\">\n",
       "  <thead>\n",
       "    <tr style=\"text-align: right;\">\n",
       "      <th></th>\n",
       "      <th>msno</th>\n",
       "      <th>song_id</th>\n",
       "      <th>source_type</th>\n",
       "      <th>target</th>\n",
       "      <th>song_length</th>\n",
       "      <th>language</th>\n",
       "      <th>city</th>\n",
       "      <th>bd</th>\n",
       "      <th>gender</th>\n",
       "      <th>registered_via</th>\n",
       "      <th>registration_init_time_year</th>\n",
       "      <th>registration_init_time_month</th>\n",
       "      <th>registration_init_time_day</th>\n",
       "      <th>expiration_date_year</th>\n",
       "      <th>expiration_date_month</th>\n",
       "      <th>expiration_date_day</th>\n",
       "    </tr>\n",
       "  </thead>\n",
       "  <tbody>\n",
       "    <tr>\n",
       "      <th>msno</th>\n",
       "      <td>1.000000</td>\n",
       "      <td>-0.000698</td>\n",
       "      <td>-0.001860</td>\n",
       "      <td>-0.004243</td>\n",
       "      <td>0.001731</td>\n",
       "      <td>-0.007280</td>\n",
       "      <td>0.018196</td>\n",
       "      <td>-0.015432</td>\n",
       "      <td>0.001496</td>\n",
       "      <td>-0.006117</td>\n",
       "      <td>0.007650</td>\n",
       "      <td>0.014901</td>\n",
       "      <td>0.001611</td>\n",
       "      <td>-0.001386</td>\n",
       "      <td>0.009282</td>\n",
       "      <td>-0.007389</td>\n",
       "    </tr>\n",
       "    <tr>\n",
       "      <th>song_id</th>\n",
       "      <td>-0.000698</td>\n",
       "      <td>1.000000</td>\n",
       "      <td>0.005464</td>\n",
       "      <td>-0.004125</td>\n",
       "      <td>-0.009593</td>\n",
       "      <td>0.011298</td>\n",
       "      <td>-0.000440</td>\n",
       "      <td>0.001145</td>\n",
       "      <td>0.000558</td>\n",
       "      <td>-0.000662</td>\n",
       "      <td>0.001127</td>\n",
       "      <td>-0.000276</td>\n",
       "      <td>-0.000659</td>\n",
       "      <td>-0.000444</td>\n",
       "      <td>0.000162</td>\n",
       "      <td>-0.000382</td>\n",
       "    </tr>\n",
       "    <tr>\n",
       "      <th>source_type</th>\n",
       "      <td>-0.001860</td>\n",
       "      <td>0.005464</td>\n",
       "      <td>1.000000</td>\n",
       "      <td>-0.118960</td>\n",
       "      <td>0.016213</td>\n",
       "      <td>0.018901</td>\n",
       "      <td>-0.008777</td>\n",
       "      <td>0.041643</td>\n",
       "      <td>-0.000982</td>\n",
       "      <td>-0.021770</td>\n",
       "      <td>0.015938</td>\n",
       "      <td>0.004291</td>\n",
       "      <td>0.005577</td>\n",
       "      <td>-0.026727</td>\n",
       "      <td>0.005070</td>\n",
       "      <td>-0.000402</td>\n",
       "    </tr>\n",
       "    <tr>\n",
       "      <th>target</th>\n",
       "      <td>-0.004243</td>\n",
       "      <td>-0.004125</td>\n",
       "      <td>-0.118960</td>\n",
       "      <td>1.000000</td>\n",
       "      <td>-0.001122</td>\n",
       "      <td>-0.031256</td>\n",
       "      <td>-0.001715</td>\n",
       "      <td>-0.040501</td>\n",
       "      <td>0.008968</td>\n",
       "      <td>-0.003904</td>\n",
       "      <td>0.015464</td>\n",
       "      <td>0.000117</td>\n",
       "      <td>-0.003750</td>\n",
       "      <td>0.021530</td>\n",
       "      <td>0.007516</td>\n",
       "      <td>0.001149</td>\n",
       "    </tr>\n",
       "    <tr>\n",
       "      <th>song_length</th>\n",
       "      <td>0.001731</td>\n",
       "      <td>-0.009593</td>\n",
       "      <td>0.016213</td>\n",
       "      <td>-0.001122</td>\n",
       "      <td>1.000000</td>\n",
       "      <td>-0.213309</td>\n",
       "      <td>0.003839</td>\n",
       "      <td>0.009881</td>\n",
       "      <td>0.012781</td>\n",
       "      <td>0.001772</td>\n",
       "      <td>-0.006600</td>\n",
       "      <td>0.001447</td>\n",
       "      <td>0.002798</td>\n",
       "      <td>0.002428</td>\n",
       "      <td>0.002120</td>\n",
       "      <td>0.001246</td>\n",
       "    </tr>\n",
       "    <tr>\n",
       "      <th>language</th>\n",
       "      <td>-0.007280</td>\n",
       "      <td>0.011298</td>\n",
       "      <td>0.018901</td>\n",
       "      <td>-0.031256</td>\n",
       "      <td>-0.213309</td>\n",
       "      <td>1.000000</td>\n",
       "      <td>-0.019250</td>\n",
       "      <td>0.002688</td>\n",
       "      <td>-0.011923</td>\n",
       "      <td>-0.000605</td>\n",
       "      <td>0.002851</td>\n",
       "      <td>-0.001341</td>\n",
       "      <td>0.000286</td>\n",
       "      <td>-0.001763</td>\n",
       "      <td>-0.004060</td>\n",
       "      <td>-0.000201</td>\n",
       "    </tr>\n",
       "    <tr>\n",
       "      <th>city</th>\n",
       "      <td>0.018196</td>\n",
       "      <td>-0.000440</td>\n",
       "      <td>-0.008777</td>\n",
       "      <td>-0.001715</td>\n",
       "      <td>0.003839</td>\n",
       "      <td>-0.019250</td>\n",
       "      <td>1.000000</td>\n",
       "      <td>-0.026617</td>\n",
       "      <td>0.042738</td>\n",
       "      <td>0.044006</td>\n",
       "      <td>-0.059599</td>\n",
       "      <td>-0.020141</td>\n",
       "      <td>0.012177</td>\n",
       "      <td>0.021052</td>\n",
       "      <td>0.019231</td>\n",
       "      <td>-0.002086</td>\n",
       "    </tr>\n",
       "    <tr>\n",
       "      <th>bd</th>\n",
       "      <td>-0.015432</td>\n",
       "      <td>0.001145</td>\n",
       "      <td>0.041643</td>\n",
       "      <td>-0.040501</td>\n",
       "      <td>0.009881</td>\n",
       "      <td>0.002688</td>\n",
       "      <td>-0.026617</td>\n",
       "      <td>1.000000</td>\n",
       "      <td>-0.017585</td>\n",
       "      <td>0.175953</td>\n",
       "      <td>-0.271339</td>\n",
       "      <td>0.004970</td>\n",
       "      <td>0.007449</td>\n",
       "      <td>0.022316</td>\n",
       "      <td>0.033128</td>\n",
       "      <td>0.056521</td>\n",
       "    </tr>\n",
       "    <tr>\n",
       "      <th>gender</th>\n",
       "      <td>0.001496</td>\n",
       "      <td>0.000558</td>\n",
       "      <td>-0.000982</td>\n",
       "      <td>0.008968</td>\n",
       "      <td>0.012781</td>\n",
       "      <td>-0.011923</td>\n",
       "      <td>0.042738</td>\n",
       "      <td>-0.017585</td>\n",
       "      <td>1.000000</td>\n",
       "      <td>-0.031664</td>\n",
       "      <td>-0.023151</td>\n",
       "      <td>0.010019</td>\n",
       "      <td>-0.007711</td>\n",
       "      <td>-0.027810</td>\n",
       "      <td>0.020968</td>\n",
       "      <td>0.025278</td>\n",
       "    </tr>\n",
       "    <tr>\n",
       "      <th>registered_via</th>\n",
       "      <td>-0.006117</td>\n",
       "      <td>-0.000662</td>\n",
       "      <td>-0.021770</td>\n",
       "      <td>-0.003904</td>\n",
       "      <td>0.001772</td>\n",
       "      <td>-0.000605</td>\n",
       "      <td>0.044006</td>\n",
       "      <td>0.175953</td>\n",
       "      <td>-0.031664</td>\n",
       "      <td>1.000000</td>\n",
       "      <td>-0.521466</td>\n",
       "      <td>-0.015224</td>\n",
       "      <td>0.029495</td>\n",
       "      <td>0.040525</td>\n",
       "      <td>0.044223</td>\n",
       "      <td>0.068986</td>\n",
       "    </tr>\n",
       "    <tr>\n",
       "      <th>registration_init_time_year</th>\n",
       "      <td>0.007650</td>\n",
       "      <td>0.001127</td>\n",
       "      <td>0.015938</td>\n",
       "      <td>0.015464</td>\n",
       "      <td>-0.006600</td>\n",
       "      <td>0.002851</td>\n",
       "      <td>-0.059599</td>\n",
       "      <td>-0.271339</td>\n",
       "      <td>-0.023151</td>\n",
       "      <td>-0.521466</td>\n",
       "      <td>1.000000</td>\n",
       "      <td>-0.064179</td>\n",
       "      <td>-0.058884</td>\n",
       "      <td>-0.008611</td>\n",
       "      <td>-0.068594</td>\n",
       "      <td>-0.095614</td>\n",
       "    </tr>\n",
       "    <tr>\n",
       "      <th>registration_init_time_month</th>\n",
       "      <td>0.014901</td>\n",
       "      <td>-0.000276</td>\n",
       "      <td>0.004291</td>\n",
       "      <td>0.000117</td>\n",
       "      <td>0.001447</td>\n",
       "      <td>-0.001341</td>\n",
       "      <td>-0.020141</td>\n",
       "      <td>0.004970</td>\n",
       "      <td>0.010019</td>\n",
       "      <td>-0.015224</td>\n",
       "      <td>-0.064179</td>\n",
       "      <td>1.000000</td>\n",
       "      <td>0.043912</td>\n",
       "      <td>-0.000264</td>\n",
       "      <td>-0.003314</td>\n",
       "      <td>-0.009111</td>\n",
       "    </tr>\n",
       "    <tr>\n",
       "      <th>registration_init_time_day</th>\n",
       "      <td>0.001611</td>\n",
       "      <td>-0.000659</td>\n",
       "      <td>0.005577</td>\n",
       "      <td>-0.003750</td>\n",
       "      <td>0.002798</td>\n",
       "      <td>0.000286</td>\n",
       "      <td>0.012177</td>\n",
       "      <td>0.007449</td>\n",
       "      <td>-0.007711</td>\n",
       "      <td>0.029495</td>\n",
       "      <td>-0.058884</td>\n",
       "      <td>0.043912</td>\n",
       "      <td>1.000000</td>\n",
       "      <td>0.000019</td>\n",
       "      <td>0.002890</td>\n",
       "      <td>0.053080</td>\n",
       "    </tr>\n",
       "    <tr>\n",
       "      <th>expiration_date_year</th>\n",
       "      <td>-0.001386</td>\n",
       "      <td>-0.000444</td>\n",
       "      <td>-0.026727</td>\n",
       "      <td>0.021530</td>\n",
       "      <td>0.002428</td>\n",
       "      <td>-0.001763</td>\n",
       "      <td>0.021052</td>\n",
       "      <td>0.022316</td>\n",
       "      <td>-0.027810</td>\n",
       "      <td>0.040525</td>\n",
       "      <td>-0.008611</td>\n",
       "      <td>-0.000264</td>\n",
       "      <td>0.000019</td>\n",
       "      <td>1.000000</td>\n",
       "      <td>-0.540052</td>\n",
       "      <td>-0.043564</td>\n",
       "    </tr>\n",
       "    <tr>\n",
       "      <th>expiration_date_month</th>\n",
       "      <td>0.009282</td>\n",
       "      <td>0.000162</td>\n",
       "      <td>0.005070</td>\n",
       "      <td>0.007516</td>\n",
       "      <td>0.002120</td>\n",
       "      <td>-0.004060</td>\n",
       "      <td>0.019231</td>\n",
       "      <td>0.033128</td>\n",
       "      <td>0.020968</td>\n",
       "      <td>0.044223</td>\n",
       "      <td>-0.068594</td>\n",
       "      <td>-0.003314</td>\n",
       "      <td>0.002890</td>\n",
       "      <td>-0.540052</td>\n",
       "      <td>1.000000</td>\n",
       "      <td>-0.006488</td>\n",
       "    </tr>\n",
       "    <tr>\n",
       "      <th>expiration_date_day</th>\n",
       "      <td>-0.007389</td>\n",
       "      <td>-0.000382</td>\n",
       "      <td>-0.000402</td>\n",
       "      <td>0.001149</td>\n",
       "      <td>0.001246</td>\n",
       "      <td>-0.000201</td>\n",
       "      <td>-0.002086</td>\n",
       "      <td>0.056521</td>\n",
       "      <td>0.025278</td>\n",
       "      <td>0.068986</td>\n",
       "      <td>-0.095614</td>\n",
       "      <td>-0.009111</td>\n",
       "      <td>0.053080</td>\n",
       "      <td>-0.043564</td>\n",
       "      <td>-0.006488</td>\n",
       "      <td>1.000000</td>\n",
       "    </tr>\n",
       "  </tbody>\n",
       "</table>\n",
       "</div>"
      ],
      "text/plain": [
       "                                  msno   song_id  source_type    target  \\\n",
       "msno                          1.000000 -0.000698    -0.001860 -0.004243   \n",
       "song_id                      -0.000698  1.000000     0.005464 -0.004125   \n",
       "source_type                  -0.001860  0.005464     1.000000 -0.118960   \n",
       "target                       -0.004243 -0.004125    -0.118960  1.000000   \n",
       "song_length                   0.001731 -0.009593     0.016213 -0.001122   \n",
       "language                     -0.007280  0.011298     0.018901 -0.031256   \n",
       "city                          0.018196 -0.000440    -0.008777 -0.001715   \n",
       "bd                           -0.015432  0.001145     0.041643 -0.040501   \n",
       "gender                        0.001496  0.000558    -0.000982  0.008968   \n",
       "registered_via               -0.006117 -0.000662    -0.021770 -0.003904   \n",
       "registration_init_time_year   0.007650  0.001127     0.015938  0.015464   \n",
       "registration_init_time_month  0.014901 -0.000276     0.004291  0.000117   \n",
       "registration_init_time_day    0.001611 -0.000659     0.005577 -0.003750   \n",
       "expiration_date_year         -0.001386 -0.000444    -0.026727  0.021530   \n",
       "expiration_date_month         0.009282  0.000162     0.005070  0.007516   \n",
       "expiration_date_day          -0.007389 -0.000382    -0.000402  0.001149   \n",
       "\n",
       "                              song_length  language      city        bd  \\\n",
       "msno                             0.001731 -0.007280  0.018196 -0.015432   \n",
       "song_id                         -0.009593  0.011298 -0.000440  0.001145   \n",
       "source_type                      0.016213  0.018901 -0.008777  0.041643   \n",
       "target                          -0.001122 -0.031256 -0.001715 -0.040501   \n",
       "song_length                      1.000000 -0.213309  0.003839  0.009881   \n",
       "language                        -0.213309  1.000000 -0.019250  0.002688   \n",
       "city                             0.003839 -0.019250  1.000000 -0.026617   \n",
       "bd                               0.009881  0.002688 -0.026617  1.000000   \n",
       "gender                           0.012781 -0.011923  0.042738 -0.017585   \n",
       "registered_via                   0.001772 -0.000605  0.044006  0.175953   \n",
       "registration_init_time_year     -0.006600  0.002851 -0.059599 -0.271339   \n",
       "registration_init_time_month     0.001447 -0.001341 -0.020141  0.004970   \n",
       "registration_init_time_day       0.002798  0.000286  0.012177  0.007449   \n",
       "expiration_date_year             0.002428 -0.001763  0.021052  0.022316   \n",
       "expiration_date_month            0.002120 -0.004060  0.019231  0.033128   \n",
       "expiration_date_day              0.001246 -0.000201 -0.002086  0.056521   \n",
       "\n",
       "                                gender  registered_via  \\\n",
       "msno                          0.001496       -0.006117   \n",
       "song_id                       0.000558       -0.000662   \n",
       "source_type                  -0.000982       -0.021770   \n",
       "target                        0.008968       -0.003904   \n",
       "song_length                   0.012781        0.001772   \n",
       "language                     -0.011923       -0.000605   \n",
       "city                          0.042738        0.044006   \n",
       "bd                           -0.017585        0.175953   \n",
       "gender                        1.000000       -0.031664   \n",
       "registered_via               -0.031664        1.000000   \n",
       "registration_init_time_year  -0.023151       -0.521466   \n",
       "registration_init_time_month  0.010019       -0.015224   \n",
       "registration_init_time_day   -0.007711        0.029495   \n",
       "expiration_date_year         -0.027810        0.040525   \n",
       "expiration_date_month         0.020968        0.044223   \n",
       "expiration_date_day           0.025278        0.068986   \n",
       "\n",
       "                              registration_init_time_year  \\\n",
       "msno                                             0.007650   \n",
       "song_id                                          0.001127   \n",
       "source_type                                      0.015938   \n",
       "target                                           0.015464   \n",
       "song_length                                     -0.006600   \n",
       "language                                         0.002851   \n",
       "city                                            -0.059599   \n",
       "bd                                              -0.271339   \n",
       "gender                                          -0.023151   \n",
       "registered_via                                  -0.521466   \n",
       "registration_init_time_year                      1.000000   \n",
       "registration_init_time_month                    -0.064179   \n",
       "registration_init_time_day                      -0.058884   \n",
       "expiration_date_year                            -0.008611   \n",
       "expiration_date_month                           -0.068594   \n",
       "expiration_date_day                             -0.095614   \n",
       "\n",
       "                              registration_init_time_month  \\\n",
       "msno                                              0.014901   \n",
       "song_id                                          -0.000276   \n",
       "source_type                                       0.004291   \n",
       "target                                            0.000117   \n",
       "song_length                                       0.001447   \n",
       "language                                         -0.001341   \n",
       "city                                             -0.020141   \n",
       "bd                                                0.004970   \n",
       "gender                                            0.010019   \n",
       "registered_via                                   -0.015224   \n",
       "registration_init_time_year                      -0.064179   \n",
       "registration_init_time_month                      1.000000   \n",
       "registration_init_time_day                        0.043912   \n",
       "expiration_date_year                             -0.000264   \n",
       "expiration_date_month                            -0.003314   \n",
       "expiration_date_day                              -0.009111   \n",
       "\n",
       "                              registration_init_time_day  \\\n",
       "msno                                            0.001611   \n",
       "song_id                                        -0.000659   \n",
       "source_type                                     0.005577   \n",
       "target                                         -0.003750   \n",
       "song_length                                     0.002798   \n",
       "language                                        0.000286   \n",
       "city                                            0.012177   \n",
       "bd                                              0.007449   \n",
       "gender                                         -0.007711   \n",
       "registered_via                                  0.029495   \n",
       "registration_init_time_year                    -0.058884   \n",
       "registration_init_time_month                    0.043912   \n",
       "registration_init_time_day                      1.000000   \n",
       "expiration_date_year                            0.000019   \n",
       "expiration_date_month                           0.002890   \n",
       "expiration_date_day                             0.053080   \n",
       "\n",
       "                              expiration_date_year  expiration_date_month  \\\n",
       "msno                                     -0.001386               0.009282   \n",
       "song_id                                  -0.000444               0.000162   \n",
       "source_type                              -0.026727               0.005070   \n",
       "target                                    0.021530               0.007516   \n",
       "song_length                               0.002428               0.002120   \n",
       "language                                 -0.001763              -0.004060   \n",
       "city                                      0.021052               0.019231   \n",
       "bd                                        0.022316               0.033128   \n",
       "gender                                   -0.027810               0.020968   \n",
       "registered_via                            0.040525               0.044223   \n",
       "registration_init_time_year              -0.008611              -0.068594   \n",
       "registration_init_time_month             -0.000264              -0.003314   \n",
       "registration_init_time_day                0.000019               0.002890   \n",
       "expiration_date_year                      1.000000              -0.540052   \n",
       "expiration_date_month                    -0.540052               1.000000   \n",
       "expiration_date_day                      -0.043564              -0.006488   \n",
       "\n",
       "                              expiration_date_day  \n",
       "msno                                    -0.007389  \n",
       "song_id                                 -0.000382  \n",
       "source_type                             -0.000402  \n",
       "target                                   0.001149  \n",
       "song_length                              0.001246  \n",
       "language                                -0.000201  \n",
       "city                                    -0.002086  \n",
       "bd                                       0.056521  \n",
       "gender                                   0.025278  \n",
       "registered_via                           0.068986  \n",
       "registration_init_time_year             -0.095614  \n",
       "registration_init_time_month            -0.009111  \n",
       "registration_init_time_day               0.053080  \n",
       "expiration_date_year                    -0.043564  \n",
       "expiration_date_month                   -0.006488  \n",
       "expiration_date_day                      1.000000  "
      ]
     },
     "execution_count": 67,
     "metadata": {},
     "output_type": "execute_result"
    }
   ],
   "source": [
    "df_New.corr()"
   ]
  },
  {
   "cell_type": "code",
   "execution_count": 68,
   "metadata": {},
   "outputs": [],
   "source": [
    "from sklearn.feature_selection import SelectKBest\n",
    "from sklearn.feature_selection import chi2\n",
    "bestfeatures = SelectKBest(score_func=chi2, k=9)\n",
    "fit = bestfeatures.fit(X,y)"
   ]
  },
  {
   "cell_type": "code",
   "execution_count": 69,
   "metadata": {},
   "outputs": [],
   "source": [
    "dfscores = pd.DataFrame(fit.scores_)\n",
    "dfcolumns = pd.DataFrame(X.columns)"
   ]
  },
  {
   "cell_type": "code",
   "execution_count": 70,
   "metadata": {},
   "outputs": [],
   "source": [
    "#concat two dataframes for better visualization \n",
    "featureScores = pd.concat([dfcolumns,dfscores],axis=1)\n",
    "featureScores.columns = ['Specs','Score']  #naming the dataframe columns"
   ]
  },
  {
   "cell_type": "code",
   "execution_count": 71,
   "metadata": {},
   "outputs": [
    {
     "data": {
      "text/html": [
       "<div>\n",
       "<style scoped>\n",
       "    .dataframe tbody tr th:only-of-type {\n",
       "        vertical-align: middle;\n",
       "    }\n",
       "\n",
       "    .dataframe tbody tr th {\n",
       "        vertical-align: top;\n",
       "    }\n",
       "\n",
       "    .dataframe thead th {\n",
       "        text-align: right;\n",
       "    }\n",
       "</style>\n",
       "<table border=\"1\" class=\"dataframe\">\n",
       "  <thead>\n",
       "    <tr style=\"text-align: right;\">\n",
       "      <th></th>\n",
       "      <th>Specs</th>\n",
       "      <th>Score</th>\n",
       "    </tr>\n",
       "  </thead>\n",
       "  <tbody>\n",
       "    <tr>\n",
       "      <th>0</th>\n",
       "      <td>msno</td>\n",
       "      <td>1.822079e+05</td>\n",
       "    </tr>\n",
       "    <tr>\n",
       "      <th>1</th>\n",
       "      <td>song_id</td>\n",
       "      <td>3.506984e+06</td>\n",
       "    </tr>\n",
       "    <tr>\n",
       "      <th>2</th>\n",
       "      <td>source_type</td>\n",
       "      <td>7.671578e+04</td>\n",
       "    </tr>\n",
       "    <tr>\n",
       "      <th>3</th>\n",
       "      <td>song_length</td>\n",
       "      <td>9.613947e+04</td>\n",
       "    </tr>\n",
       "    <tr>\n",
       "      <th>4</th>\n",
       "      <td>language</td>\n",
       "      <td>1.042579e+05</td>\n",
       "    </tr>\n",
       "    <tr>\n",
       "      <th>5</th>\n",
       "      <td>city</td>\n",
       "      <td>4.147248e+01</td>\n",
       "    </tr>\n",
       "    <tr>\n",
       "      <th>6</th>\n",
       "      <td>bd</td>\n",
       "      <td>1.882658e+04</td>\n",
       "    </tr>\n",
       "    <tr>\n",
       "      <th>7</th>\n",
       "      <td>gender</td>\n",
       "      <td>7.648462e+01</td>\n",
       "    </tr>\n",
       "    <tr>\n",
       "      <th>8</th>\n",
       "      <td>registered_via</td>\n",
       "      <td>6.457467e+01</td>\n",
       "    </tr>\n",
       "    <tr>\n",
       "      <th>9</th>\n",
       "      <td>registration_init_time_year</td>\n",
       "      <td>5.412053e+00</td>\n",
       "    </tr>\n",
       "    <tr>\n",
       "      <th>10</th>\n",
       "      <td>registration_init_time_month</td>\n",
       "      <td>1.168384e-01</td>\n",
       "    </tr>\n",
       "    <tr>\n",
       "      <th>11</th>\n",
       "      <td>registration_init_time_day</td>\n",
       "      <td>3.024435e+02</td>\n",
       "    </tr>\n",
       "    <tr>\n",
       "      <th>12</th>\n",
       "      <td>expiration_date_year</td>\n",
       "      <td>1.767636e-01</td>\n",
       "    </tr>\n",
       "    <tr>\n",
       "      <th>13</th>\n",
       "      <td>expiration_date_month</td>\n",
       "      <td>2.068799e+02</td>\n",
       "    </tr>\n",
       "    <tr>\n",
       "      <th>14</th>\n",
       "      <td>expiration_date_day</td>\n",
       "      <td>3.087758e+01</td>\n",
       "    </tr>\n",
       "  </tbody>\n",
       "</table>\n",
       "</div>"
      ],
      "text/plain": [
       "                           Specs         Score\n",
       "0                           msno  1.822079e+05\n",
       "1                        song_id  3.506984e+06\n",
       "2                    source_type  7.671578e+04\n",
       "3                    song_length  9.613947e+04\n",
       "4                       language  1.042579e+05\n",
       "5                           city  4.147248e+01\n",
       "6                             bd  1.882658e+04\n",
       "7                         gender  7.648462e+01\n",
       "8                 registered_via  6.457467e+01\n",
       "9    registration_init_time_year  5.412053e+00\n",
       "10  registration_init_time_month  1.168384e-01\n",
       "11    registration_init_time_day  3.024435e+02\n",
       "12          expiration_date_year  1.767636e-01\n",
       "13         expiration_date_month  2.068799e+02\n",
       "14           expiration_date_day  3.087758e+01"
      ]
     },
     "execution_count": 71,
     "metadata": {},
     "output_type": "execute_result"
    }
   ],
   "source": [
    "featureScores"
   ]
  },
  {
   "cell_type": "code",
   "execution_count": 72,
   "metadata": {},
   "outputs": [
    {
     "name": "stdout",
     "output_type": "stream",
     "text": [
      "                         Specs         Score\n",
      "1                      song_id  3.506984e+06\n",
      "0                         msno  1.822079e+05\n",
      "4                     language  1.042579e+05\n",
      "3                  song_length  9.613947e+04\n",
      "2                  source_type  7.671578e+04\n",
      "6                           bd  1.882658e+04\n",
      "11  registration_init_time_day  3.024435e+02\n",
      "13       expiration_date_month  2.068799e+02\n",
      "7                       gender  7.648462e+01\n",
      "8               registered_via  6.457467e+01\n"
     ]
    }
   ],
   "source": [
    "print(featureScores.nlargest(10,'Score'))  #print 10 best features"
   ]
  },
  {
   "cell_type": "code",
   "execution_count": 73,
   "metadata": {},
   "outputs": [
    {
     "name": "stderr",
     "output_type": "stream",
     "text": [
      "C:\\Users\\rgupta5\\AppData\\Local\\Continuum\\anaconda3\\lib\\site-packages\\sklearn\\ensemble\\weight_boosting.py:29: DeprecationWarning: numpy.core.umath_tests is an internal NumPy module and should not be imported. It will be removed in a future NumPy release.\n",
      "  from numpy.core.umath_tests import inner1d\n"
     ]
    },
    {
     "data": {
      "text/plain": [
       "ExtraTreesClassifier(bootstrap=False, class_weight=None, criterion='gini',\n",
       "           max_depth=None, max_features='auto', max_leaf_nodes=None,\n",
       "           min_impurity_decrease=0.0, min_impurity_split=None,\n",
       "           min_samples_leaf=1, min_samples_split=2,\n",
       "           min_weight_fraction_leaf=0.0, n_estimators=10, n_jobs=1,\n",
       "           oob_score=False, random_state=None, verbose=0, warm_start=False)"
      ]
     },
     "execution_count": 73,
     "metadata": {},
     "output_type": "execute_result"
    }
   ],
   "source": [
    "## Feature importance\n",
    "from sklearn.ensemble import ExtraTreesClassifier\n",
    "import matplotlib.pyplot as plt\n",
    "model = ExtraTreesClassifier()\n",
    "model.fit(X,y)"
   ]
  },
  {
   "cell_type": "markdown",
   "metadata": {},
   "source": [
    "yeehaa pr aap dekhleena kita i greater than hogaa"
   ]
  },
  {
   "cell_type": "code",
   "execution_count": 74,
   "metadata": {},
   "outputs": [
    {
     "name": "stdout",
     "output_type": "stream",
     "text": [
      "[0.02761989 0.33267355 0.09077536 0.33595927 0.02606006 0.02199868\n",
      " 0.02630379 0.00806731 0.01030829 0.0215484  0.02351778 0.02624233\n",
      " 0.00632383 0.01735331 0.02524813]\n",
      "Index(['msno', 'song_id', 'source_type', 'song_length', 'language', 'city',\n",
      "       'bd', 'gender', 'registered_via', 'registration_init_time_year',\n",
      "       'registration_init_time_month', 'registration_init_time_day',\n",
      "       'expiration_date_year', 'expiration_date_month', 'expiration_date_day'],\n",
      "      dtype='object')\n",
      "0.3326735513625668\n",
      "0.09077536213948272\n",
      "0.335959270356181\n"
     ]
    }
   ],
   "source": [
    "print(model.feature_importances_)\n",
    "print(X.columns)#use inbuilt class feature_importances of tree based classifiers\n",
    "for i in model.feature_importances_:\n",
    "    if i >= 0.03119358:\n",
    "        print(i,)"
   ]
  },
  {
   "cell_type": "code",
   "execution_count": 75,
   "metadata": {},
   "outputs": [
    {
     "data": {
      "image/png": "[encoded data removed]",
      "text/plain": [
       "<Figure size 432x288 with 1 Axes>"
      ]
     },
     "metadata": {},
     "output_type": "display_data"
    }
   ],
   "source": [
    "#plot graph of feature importances for better visualization\n",
    "feat_importances = pd.Series(model.feature_importances_, index=X.columns)\n",
    "feat_importances_sorted =feat_importances.sort_values(axis=0, ascending=True)\n",
    "feat_importances_sorted.nlargest(10).plot(kind='barh')\n",
    "plt.show()"
   ]
  },
  {
   "cell_type": "code",
   "execution_count": 76,
   "metadata": {},
   "outputs": [
    {
     "name": "stdout",
     "output_type": "stream",
     "text": [
      "Package                       Version\n",
      "----------------------------- -------\n",
      "backports.functools-lru-cache 1.6.1\n",
      "click                         7.1.2\n",
      "cycler                        0.10.0\n",
      "joblib                        0.14.1\n",
      "kiwisolver                    1.1.0\n",
      "matplotlib                    2.2.5\n",
      "missingno                     0.4.2\n",
      "numpy                         1.16.6\n",
      "pandas                        0.24.2\n",
      "pip                           20.3.3\n",
      "pyparsing                     2.4.7\n",
      "PyPDF2                        1.26.0\n",
      "python-dateutil               2.8.1\n",
      "pytz                          2020.1\n",
      "scikit-learn                  0.20.4\n",
      "scipy                         1.2.3\n",
      "seaborn                       0.9.1\n",
      "setuptools                    39.0.1\n",
      "six                           1.15.0\n",
      "sklearn                       0.0\n"
     ]
    },
    {
     "name": "stderr",
     "output_type": "stream",
     "text": [
      "DEPRECATION: Python 2.7 reached the end of its life on January 1st, 2020. Please upgrade your Python as Python 2.7 is no longer maintained. pip 21.0 will drop support for Python 2.7 in January 2021. More details about Python 2 support in pip can be found at https://pip.pypa.io/en/latest/development/release-process/#python-2-support pip 21.0 will remove support for this functionality.\n",
      "WARNING: You are using pip version 20.3.3; however, version 20.3.4 is available.\n",
      "You should consider upgrading via the 'c:\\python27\\python.exe -m pip install --upgrade pip' command.\n"
     ]
    }
   ],
   "source": [
    "!pip list "
   ]
  },
  {
   "cell_type": "code",
   "execution_count": 79,
   "metadata": {},
   "outputs": [],
   "source": [
    "#Saving to Excel\n",
    "df_New.to_csv(\"output.csv\") "
   ]
  },
  {
   "cell_type": "code",
   "execution_count": 3,
   "metadata": {},
   "outputs": [],
   "source": [
    "from sklearn.linear_model import LogisticRegression \n",
    "from sklearn.model_selection import train_test_split\n",
    "from sklearn import metrics\n",
    "from sklearn.tree import DecisionTreeClassifier"
   ]
  },
  {
   "cell_type": "code",
   "execution_count": 8,
   "metadata": {},
   "outputs": [],
   "source": [
    "df_New = pd.read_csv(\"output.csv\")"
   ]
  },
  {
   "cell_type": "code",
   "execution_count": 9,
   "metadata": {},
   "outputs": [
    {
     "name": "stdout",
     "output_type": "stream",
     "text": [
      "(2657631, 17)\n",
      "(1771755, 17)\n"
     ]
    }
   ],
   "source": [
    "train, test = train_test_split(df_New, test_size = 0.40)\n",
    "print(train.shape)\n",
    "print(test.shape)"
   ]
  },
  {
   "cell_type": "code",
   "execution_count": 10,
   "metadata": {},
   "outputs": [],
   "source": [
    "train_y = train[\"target\"]\n",
    "train_x = train.drop(['target'],axis=1)\n",
    "\n"
   ]
  },
  {
   "cell_type": "code",
   "execution_count": 11,
   "metadata": {},
   "outputs": [
    {
     "data": {
      "text/html": [
       "<div>\n",
       "<style scoped>\n",
       "    .dataframe tbody tr th:only-of-type {\n",
       "        vertical-align: middle;\n",
       "    }\n",
       "\n",
       "    .dataframe tbody tr th {\n",
       "        vertical-align: top;\n",
       "    }\n",
       "\n",
       "    .dataframe thead th {\n",
       "        text-align: right;\n",
       "    }\n",
       "</style>\n",
       "<table border=\"1\" class=\"dataframe\">\n",
       "  <thead>\n",
       "    <tr style=\"text-align: right;\">\n",
       "      <th></th>\n",
       "      <th>Unnamed: 0</th>\n",
       "      <th>msno</th>\n",
       "      <th>song_id</th>\n",
       "      <th>source_type</th>\n",
       "      <th>song_length</th>\n",
       "      <th>language</th>\n",
       "      <th>city</th>\n",
       "      <th>bd</th>\n",
       "      <th>gender</th>\n",
       "      <th>registered_via</th>\n",
       "      <th>registration_init_time_year</th>\n",
       "      <th>registration_init_time_month</th>\n",
       "      <th>registration_init_time_day</th>\n",
       "      <th>expiration_date_year</th>\n",
       "      <th>expiration_date_month</th>\n",
       "      <th>expiration_date_day</th>\n",
       "    </tr>\n",
       "  </thead>\n",
       "  <tbody>\n",
       "    <tr>\n",
       "      <th>1343672</th>\n",
       "      <td>2210916</td>\n",
       "      <td>5691</td>\n",
       "      <td>122511</td>\n",
       "      <td>4</td>\n",
       "      <td>262165.0</td>\n",
       "      <td>3.0</td>\n",
       "      <td>5</td>\n",
       "      <td>30</td>\n",
       "      <td>2</td>\n",
       "      <td>3</td>\n",
       "      <td>2012</td>\n",
       "      <td>9</td>\n",
       "      <td>16</td>\n",
       "      <td>2017</td>\n",
       "      <td>9</td>\n",
       "      <td>7</td>\n",
       "    </tr>\n",
       "    <tr>\n",
       "      <th>2613161</th>\n",
       "      <td>4309611</td>\n",
       "      <td>6250</td>\n",
       "      <td>37526</td>\n",
       "      <td>3</td>\n",
       "      <td>240744.0</td>\n",
       "      <td>52.0</td>\n",
       "      <td>13</td>\n",
       "      <td>22</td>\n",
       "      <td>2</td>\n",
       "      <td>9</td>\n",
       "      <td>2011</td>\n",
       "      <td>7</td>\n",
       "      <td>15</td>\n",
       "      <td>2017</td>\n",
       "      <td>10</td>\n",
       "      <td>19</td>\n",
       "    </tr>\n",
       "    <tr>\n",
       "      <th>686529</th>\n",
       "      <td>1139050</td>\n",
       "      <td>5268</td>\n",
       "      <td>236280</td>\n",
       "      <td>3</td>\n",
       "      <td>202318.0</td>\n",
       "      <td>3.0</td>\n",
       "      <td>1</td>\n",
       "      <td>20</td>\n",
       "      <td>0</td>\n",
       "      <td>9</td>\n",
       "      <td>2014</td>\n",
       "      <td>9</td>\n",
       "      <td>29</td>\n",
       "      <td>2017</td>\n",
       "      <td>11</td>\n",
       "      <td>19</td>\n",
       "    </tr>\n",
       "    <tr>\n",
       "      <th>630263</th>\n",
       "      <td>1047381</td>\n",
       "      <td>13325</td>\n",
       "      <td>203234</td>\n",
       "      <td>9</td>\n",
       "      <td>197903.0</td>\n",
       "      <td>3.0</td>\n",
       "      <td>4</td>\n",
       "      <td>23</td>\n",
       "      <td>2</td>\n",
       "      <td>9</td>\n",
       "      <td>2011</td>\n",
       "      <td>2</td>\n",
       "      <td>11</td>\n",
       "      <td>2017</td>\n",
       "      <td>9</td>\n",
       "      <td>30</td>\n",
       "    </tr>\n",
       "    <tr>\n",
       "      <th>90978</th>\n",
       "      <td>150395</td>\n",
       "      <td>1960</td>\n",
       "      <td>262995</td>\n",
       "      <td>6</td>\n",
       "      <td>296797.0</td>\n",
       "      <td>17.0</td>\n",
       "      <td>6</td>\n",
       "      <td>23</td>\n",
       "      <td>1</td>\n",
       "      <td>3</td>\n",
       "      <td>2012</td>\n",
       "      <td>10</td>\n",
       "      <td>28</td>\n",
       "      <td>2017</td>\n",
       "      <td>9</td>\n",
       "      <td>16</td>\n",
       "    </tr>\n",
       "  </tbody>\n",
       "</table>\n",
       "</div>"
      ],
      "text/plain": [
       "         Unnamed: 0   msno  song_id  source_type  song_length  language  city  \\\n",
       "1343672     2210916   5691   122511            4     262165.0       3.0     5   \n",
       "2613161     4309611   6250    37526            3     240744.0      52.0    13   \n",
       "686529      1139050   5268   236280            3     202318.0       3.0     1   \n",
       "630263      1047381  13325   203234            9     197903.0       3.0     4   \n",
       "90978        150395   1960   262995            6     296797.0      17.0     6   \n",
       "\n",
       "         bd  gender  registered_via  registration_init_time_year  \\\n",
       "1343672  30       2               3                         2012   \n",
       "2613161  22       2               9                         2011   \n",
       "686529   20       0               9                         2014   \n",
       "630263   23       2               9                         2011   \n",
       "90978    23       1               3                         2012   \n",
       "\n",
       "         registration_init_time_month  registration_init_time_day  \\\n",
       "1343672                             9                          16   \n",
       "2613161                             7                          15   \n",
       "686529                              9                          29   \n",
       "630263                              2                          11   \n",
       "90978                              10                          28   \n",
       "\n",
       "         expiration_date_year  expiration_date_month  expiration_date_day  \n",
       "1343672                  2017                      9                    7  \n",
       "2613161                  2017                     10                   19  \n",
       "686529                   2017                     11                   19  \n",
       "630263                   2017                      9                   30  \n",
       "90978                    2017                      9                   16  "
      ]
     },
     "execution_count": 11,
     "metadata": {},
     "output_type": "execute_result"
    }
   ],
   "source": [
    "train_x.head()"
   ]
  },
  {
   "cell_type": "code",
   "execution_count": 12,
   "metadata": {},
   "outputs": [],
   "source": [
    "test_y = test[\"target\"]\n",
    "test_x = test.drop(['target'],axis=1)"
   ]
  },
  {
   "cell_type": "code",
   "execution_count": 13,
   "metadata": {},
   "outputs": [
    {
     "name": "stdout",
     "output_type": "stream",
     "text": [
      "(2657631, 16)\n",
      "(1771755, 16)\n"
     ]
    }
   ],
   "source": [
    "print(train_x.shape)\n",
    "print(test_x.shape)"
   ]
  },
  {
   "cell_type": "code",
   "execution_count": 14,
   "metadata": {},
   "outputs": [
    {
     "name": "stdout",
     "output_type": "stream",
     "text": [
      "(2657631,)\n",
      "(1771755,)\n"
     ]
    }
   ],
   "source": [
    "print(train_y.shape)\n",
    "print(test_y.shape)"
   ]
  },
  {
   "cell_type": "code",
   "execution_count": 15,
   "metadata": {},
   "outputs": [
    {
     "name": "stdout",
     "output_type": "stream",
     "text": [
      "Accuracy: 0.5792239897728524\n"
     ]
    }
   ],
   "source": [
    "#Using LogisticRegression\n",
    "model = LogisticRegression()\n",
    "model.fit(train_x, train_y)\n",
    "prediction = model.predict(test_x)\n",
    "print('Accuracy:',metrics.accuracy_score(prediction,test_y))"
   ]
  },
  {
   "cell_type": "code",
   "execution_count": 16,
   "metadata": {},
   "outputs": [
    {
     "name": "stdout",
     "output_type": "stream",
     "text": [
      "Confusion matrix: \n",
      " [[473898 394673]\n",
      " [350839 552345]]\n",
      "             precision    recall  f1-score   support\n",
      "\n",
      "          0       0.57      0.55      0.56    868571\n",
      "          1       0.58      0.61      0.60    903184\n",
      "\n",
      "avg / total       0.58      0.58      0.58   1771755\n",
      "\n"
     ]
    }
   ],
   "source": [
    "#Confusion matrix\n",
    "from sklearn.metrics import confusion_matrix,classification_report\n",
    "confusion_mat = confusion_matrix(test_y,prediction)\n",
    "print(\"Confusion matrix: \\n\",confusion_mat)\n",
    "print(classification_report(test_y,prediction))"
   ]
  },
  {
   "cell_type": "code",
   "execution_count": 18,
   "metadata": {},
   "outputs": [
    {
     "name": "stdout",
     "output_type": "stream",
     "text": [
      "Accuracy Score: 0.6908596278830876\n"
     ]
    }
   ],
   "source": [
    "#Using Decision Tree\n",
    "from sklearn.tree import DecisionTreeClassifier\n",
    "model4 = DecisionTreeClassifier(criterion='entropy',random_state=20)\n",
    "model4.fit(train_x,train_y)\n",
    "y_pred4 = model4.predict(test_x)\n",
    "\n",
    "from sklearn.metrics import accuracy_score\n",
    "print(\"Accuracy Score:\",accuracy_score(test_y,y_pred4))"
   ]
  },
  {
   "cell_type": "code",
   "execution_count": 19,
   "metadata": {},
   "outputs": [
    {
     "name": "stdout",
     "output_type": "stream",
     "text": [
      "Accuracy Score: 0.577426901574992\n"
     ]
    }
   ],
   "source": [
    "#Using GaussianNB\n",
    "from sklearn.naive_bayes import GaussianNB\n",
    "model3 = GaussianNB()\n",
    "model3.fit(train_x,train_y)\n",
    "y_pred3 = model3.predict(test_x)\n",
    "\n",
    "from sklearn.metrics import accuracy_score\n",
    "print(\"Accuracy Score:\",accuracy_score(test_y,y_pred3))"
   ]
  },
  {
   "cell_type": "code",
   "execution_count": 101,
   "metadata": {},
   "outputs": [],
   "source": [
    "#from sklearn.ensemble import RandomForestClassifier\n",
    "# Instantiate model with 1000 decision trees\n",
    "#rf = RandomForestClassifier(n_estimators = 1000, random_state = 42)\n",
    "# Train the model on training data\n",
    "#rf.fit(train_x, train_y);"
   ]
  },
  {
   "cell_type": "code",
   "execution_count": null,
   "metadata": {},
   "outputs": [],
   "source": [
    "# Use the forest's predict method on the test data\n",
    "#predictions = rf.predict(test_y)\n",
    "# Calculate the absolute errors\n",
    "#errors = abs(predictions - test_y)\n",
    "# Print out the mean absolute error (mae)\n",
    "#print('Mean Absolute Error:', round(np.mean(errors), 2), 'degrees.')\n",
    "#print(\"Accuracy Score:\",accuracy_score(test_y,predictions))"
   ]
  },
  {
   "cell_type": "code",
   "execution_count": null,
   "metadata": {},
   "outputs": [],
   "source": [
    "criterion = ['gini', 'entropy']\n",
    "max_depth = [2,4,6,8,10,12]"
   ]
  },
  {
   "cell_type": "code",
   "execution_count": 20,
   "metadata": {},
   "outputs": [
    {
     "ename": "NameError",
     "evalue": "name 'tree' is not defined",
     "output_type": "error",
     "traceback": [
      "\u001b[1;31m---------------------------------------------------------------------------\u001b[0m",
      "\u001b[1;31mNameError\u001b[0m                                 Traceback (most recent call last)",
      "\u001b[1;32m<ipython-input-20-44d8de0ea597>\u001b[0m in \u001b[0;36m<module>\u001b[1;34m()\u001b[0m\n\u001b[0;32m      2\u001b[0m \u001b[1;33m\u001b[0m\u001b[0m\n\u001b[0;32m      3\u001b[0m \u001b[1;31m# Creating a DecisionTreeClassifier\u001b[0m\u001b[1;33m\u001b[0m\u001b[1;33m\u001b[0m\u001b[0m\n\u001b[1;32m----> 4\u001b[1;33m \u001b[0mdec_tree\u001b[0m \u001b[1;33m=\u001b[0m \u001b[0mtree\u001b[0m\u001b[1;33m.\u001b[0m\u001b[0mDecisionTreeClassifier\u001b[0m\u001b[1;33m(\u001b[0m\u001b[1;33m)\u001b[0m\u001b[1;33m\u001b[0m\u001b[0m\n\u001b[0m\u001b[0;32m      5\u001b[0m \u001b[1;33m\u001b[0m\u001b[0m\n\u001b[0;32m      6\u001b[0m     \u001b[1;31m# Creating a pipeline of three steps. First, standardizing the data.\u001b[0m\u001b[1;33m\u001b[0m\u001b[1;33m\u001b[0m\u001b[0m\n",
      "\u001b[1;31mNameError\u001b[0m: name 'tree' is not defined"
     ]
    }
   ],
   "source": [
    "\n",
    "\n",
    "# Creating a DecisionTreeClassifier\n",
    "dec_tree = tree.DecisionTreeClassifier()\n",
    "\n",
    "    # Creating a pipeline of three steps. First, standardizing the data.\n",
    "    # Second, tranforming the data with PCA.\n",
    "    # Third, training a Decision Tree Classifier on the data.\n",
    "pipe = Pipeline(steps=[('std_slc', std_slc),\n",
    "                           ('pca', pca),\n",
    "                           ('dec_tree', dec_tree)])\n",
    "\n",
    "    # Creating Parameter Space\n",
    "    # Creating a list of a sequence of integers from 1 to 30 (th"
   ]
  },
  {
   "cell_type": "code",
   "execution_count": 24,
   "metadata": {},
   "outputs": [],
   "source": [
    "\n",
    "from sklearn import tree\n",
    "from sklearn.pipeline import Pipeline\n",
    "from sklearn.model_selection import GridSearchCV\n",
    "from sklearn.preprocessing import StandardScaler\n",
    "\n",
    "std_slc = StandardScaler()\n",
    "# Creating a DecisionTreeClassifier\n",
    "dec_tree = tree.DecisionTreeClassifier()\n",
    "\n",
    "    # Creating a pipeline of three steps. First, standardizing the data.\n",
    "    # Second, tranforming the data with PCA.\n",
    "    # Third, training a Decision Tree Classifier on the data.\n",
    "pipe = Pipeline(steps=[('std_slc', std_slc),('dec_tree', dec_tree)])\n"
   ]
  },
  {
   "cell_type": "code",
   "execution_count": 25,
   "metadata": {},
   "outputs": [
    {
     "data": {
      "text/plain": [
       "GridSearchCV(cv=None, error_score='raise',\n",
       "       estimator=Pipeline(memory=None,\n",
       "     steps=[('std_slc', StandardScaler(copy=True, with_mean=True, with_std=True)), ('dec_tree', DecisionTreeClassifier(class_weight=None, criterion='gini', max_depth=None,\n",
       "            max_features=None, max_leaf_nodes=None,\n",
       "            min_impurity_decrease=0.0, min_impurity_split=None,\n",
       "            min_samples_leaf=1, min_samples_split=2,\n",
       "            min_weight_fraction_leaf=0.0, presort=False, random_state=None,\n",
       "            splitter='best'))]),\n",
       "       fit_params=None, iid=True, n_jobs=1,\n",
       "       param_grid={'dec_tree__criterion': ['gini', 'entropy'], 'dec_tree__max_depth': [6, 8, 10, 12, 14, 16, 18, 20, 22]},\n",
       "       pre_dispatch='2*n_jobs', refit=True, return_train_score='warn',\n",
       "       scoring=None, verbose=0)"
      ]
     },
     "execution_count": 25,
     "metadata": {},
     "output_type": "execute_result"
    }
   ],
   "source": [
    "criterion = ['gini', 'entropy']\n",
    "max_depth = [6,8,10,12,14,16,18,20,22]\n",
    "parameters = dict(dec_tree__criterion=criterion,\n",
    "                      dec_tree__max_depth=max_depth)\n",
    "\n",
    "clf_GS = GridSearchCV(pipe, parameters)\n",
    "clf_GS.fit(train_x, train_y)"
   ]
  },
  {
   "cell_type": "code",
   "execution_count": 27,
   "metadata": {},
   "outputs": [
    {
     "name": "stdout",
     "output_type": "stream",
     "text": [
      "Best Criterion: gini\n",
      "Best max_depth: 22\n",
      "\n",
      "DecisionTreeClassifier(class_weight=None, criterion='gini', max_depth=22,\n",
      "            max_features=None, max_leaf_nodes=None,\n",
      "            min_impurity_decrease=0.0, min_impurity_split=None,\n",
      "            min_samples_leaf=1, min_samples_split=2,\n",
      "            min_weight_fraction_leaf=0.0, presort=False, random_state=None,\n",
      "            splitter='best')\n"
     ]
    }
   ],
   "source": [
    "print('Best Criterion:', clf_GS.best_estimator_.get_params()['dec_tree__criterion'])\n",
    "print('Best max_depth:', clf_GS.best_estimator_.get_params()['dec_tree__max_depth'])\n",
    "#print('Best Number Of Components:', clf_GS.best_estimator_.get_params()['pca__n_components'])\n",
    "print(); print(clf_GS.best_estimator_.get_params()['dec_tree'])"
   ]
  },
  {
   "cell_type": "code",
   "execution_count": 30,
   "metadata": {},
   "outputs": [
    {
     "name": "stdout",
     "output_type": "stream",
     "text": [
      "Accuracy Score: 0.6899097222810151\n"
     ]
    }
   ],
   "source": [
    "model4 = DecisionTreeClassifier(criterion='gini',random_state=22)\n",
    "model4.fit(train_x,train_y)\n",
    "y_pred4 = model4.predict(test_x)\n",
    "\n",
    "from sklearn.metrics import accuracy_score\n",
    "print(\"Accuracy Score:\",accuracy_score(test_y,y_pred4))"
   ]
  },
  {
   "cell_type": "code",
   "execution_count": null,
   "metadata": {},
   "outputs": [],
   "source": []
  }
 ],
 "metadata": {
  "kernelspec": {
   "display_name": "Python 3",
   "language": "python",
   "name": "python3"
  },
  "language_info": {
   "codemirror_mode": {
    "name": "ipython",
    "version": 3
   },
   "file_extension": ".py",
   "mimetype": "text/x-python",
   "name": "python",
   "nbconvert_exporter": "python",
   "pygments_lexer": "ipython3",
   "version": "3.6.5"
  }
 },
 "nbformat": 4,
 "nbformat_minor": 2
}
